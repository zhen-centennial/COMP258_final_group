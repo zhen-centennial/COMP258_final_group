{
 "cells": [
  {
   "cell_type": "markdown",
   "id": "458b63cf",
   "metadata": {
    "id": "458b63cf"
   },
   "source": [
    "# Feature Selection\n",
    "\n",
    "In this notebook we select the best features for training.\n",
    "We have used Chi2Test from sklearn.feature_selection to rank the features based on their pvalues. "
   ]
  },
  {
   "cell_type": "code",
   "execution_count": 15,
   "id": "56090d10",
   "metadata": {
    "colab": {
     "base_uri": "https://localhost:8080/"
    },
    "id": "56090d10",
    "outputId": "97614567-9d39-4493-affd-c1013bb22754"
   },
   "outputs": [
    {
     "name": "stdout",
     "output_type": "stream",
     "text": [
      "<class 'pandas.core.frame.DataFrame'>\n",
      "RangeIndex: 375 entries, 0 to 374\n",
      "Data columns (total 40 columns):\n",
      " #   Column                         Non-Null Count  Dtype  \n",
      "---  ------                         --------------  -----  \n",
      " 0   INTAKE TERM CODE               375 non-null    int64  \n",
      " 1   ADMIT TERM CODE                374 non-null    float64\n",
      " 2   ID 2                           375 non-null    int64  \n",
      " 3   RECORD COUNT                   375 non-null    int64  \n",
      " 4   INTAKE COLLEGE EXPERIENCE      375 non-null    object \n",
      " 5   PRIMARY PROGRAM CODE           375 non-null    int64  \n",
      " 6   SCHOOL CODE                    375 non-null    object \n",
      " 7   PROGRAM LONG NAME              375 non-null    object \n",
      " 8   PROGRAM SEMESTERS              375 non-null    int64  \n",
      " 9   TOTAL PROGRAM SEMESTERS        375 non-null    int64  \n",
      " 10  STUDENT LEVEL NAME             375 non-null    object \n",
      " 11  STUDENT TYPE NAME              375 non-null    object \n",
      " 12  STUDENT TYPE GROUP NAME        375 non-null    object \n",
      " 13  TIME STATUS NAME               375 non-null    object \n",
      " 14  RESIDENCY STATUS NAME          375 non-null    object \n",
      " 15  FUNDING SOURCE NAME            375 non-null    object \n",
      " 16  MAILING CITY NAME              374 non-null    object \n",
      " 17  MAILING POSTAL CODE GROUP 3    374 non-null    object \n",
      " 18  MAILING POSTAL CODE            374 non-null    object \n",
      " 19  MAILING PROVINCE NAME          374 non-null    object \n",
      " 20  GENDER                         375 non-null    object \n",
      " 21  DISABILITY IND                 375 non-null    object \n",
      " 22  MAILING COUNTRY NAME           373 non-null    object \n",
      " 23  CURRENT STAY STATUS            375 non-null    object \n",
      " 24  FUTURE TERM ENROL              375 non-null    object \n",
      " 25  ACADEMIC PERFORMANCE           375 non-null    object \n",
      " 26  EXPECTED GRAD TERM CODE        375 non-null    int64  \n",
      " 27  FIRST YEAR PERSISTENCE COUNT   375 non-null    int64  \n",
      " 28  HS AVERAGE GRADE               118 non-null    object \n",
      " 29  HS AVERAGE MARKS               118 non-null    float64\n",
      " 30  ENGLISH TEST SCORE             362 non-null    float64\n",
      " 31  AGE GROUP LONG NAME            373 non-null    object \n",
      " 32  FIRST GENERATION IND           146 non-null    object \n",
      " 33  APPL FIRST LANGUAGE DESC       373 non-null    object \n",
      " 34  APPL EDUC INST TYPE NAME       159 non-null    object \n",
      " 35  APPLICANT CATEGORY NAME        373 non-null    object \n",
      " 36  APPLICANT TARGET SEGMENT NAME  375 non-null    object \n",
      " 37  PREV EDU CRED LEVEL NAME       373 non-null    object \n",
      " 38  ADMIT YEAR                     375 non-null    object \n",
      " 39  ADMIT MONTH                    375 non-null    object \n",
      "dtypes: float64(3), int64(8), object(29)\n",
      "memory usage: 117.3+ KB\n"
     ]
    }
   ],
   "source": [
    "import pandas as pd \n",
    "import numpy as np\n",
    "from sklearn.base import BaseEstimator, TransformerMixin \n",
    "from sklearn.preprocessing import LabelEncoder\n",
    "#chi2 test \n",
    "from sklearn.feature_selection import chi2\n",
    "\n",
    "df = pd.read_excel(\"./data/HYPE Dataset for Group Project.xlsx\", sheet_name='HYPE-Retention')\n",
    "df.drop(df[df['SUCCESS LEVEL'] == 'In Progress'].index, inplace=True)\n",
    "\n",
    "df['ADMIT TERM CODE'].fillna(df['ADMIT TERM CODE'].mode(), inplace=True)\n",
    "df['ADMIT YEAR'] = df['ADMIT TERM CODE'].astype(str).str[:4]\n",
    "df['ADMIT MONTH'] = df['ADMIT TERM CODE'].astype(str).str[4:]\n",
    "\n",
    "df = df.groupby([\"ID 2\"]).apply(lambda x: x.sort_values([\"ADMIT YEAR\"], ascending=False)).drop_duplicates('ID 2',\n",
    "                                                                                                        keep='first').reset_index(drop=True)\n",
    "label_encoder = LabelEncoder()\n",
    "\n",
    "df['SUCCESS LEVEL'] = label_encoder.fit_transform(df['SUCCESS LEVEL'])\n",
    "\n",
    "X = df.drop(columns=['SUCCESS LEVEL'])\n",
    "y = df['SUCCESS LEVEL']\n",
    "\n",
    "X.info()\n",
    "\n"
   ]
  },
  {
   "cell_type": "markdown",
   "id": "627ebbd8",
   "metadata": {
    "id": "627ebbd8"
   },
   "source": [
    "Let us make a list of categorical columns"
   ]
  },
  {
   "cell_type": "code",
   "execution_count": 17,
   "id": "13daea9c",
   "metadata": {
    "colab": {
     "base_uri": "https://localhost:8080/"
    },
    "id": "13daea9c",
    "outputId": "762f0f7a-d0c6-4da8-ff1d-67cd33c4b095"
   },
   "outputs": [
    {
     "name": "stdout",
     "output_type": "stream",
     "text": [
      "<class 'pandas.core.frame.DataFrame'>\n",
      "RangeIndex: 375 entries, 0 to 374\n",
      "Data columns (total 18 columns):\n",
      " #   Column                         Non-Null Count  Dtype \n",
      "---  ------                         --------------  ----- \n",
      " 0   INTAKE COLLEGE EXPERIENCE      375 non-null    object\n",
      " 1   SCHOOL CODE                    375 non-null    object\n",
      " 2   STUDENT LEVEL NAME             375 non-null    object\n",
      " 3   TIME STATUS NAME               375 non-null    object\n",
      " 4   RESIDENCY STATUS NAME          375 non-null    object\n",
      " 5   FUNDING SOURCE NAME            375 non-null    object\n",
      " 6   GENDER                         375 non-null    object\n",
      " 7   DISABILITY IND                 375 non-null    object\n",
      " 8   MAILING COUNTRY NAME           373 non-null    object\n",
      " 9   CURRENT STAY STATUS            375 non-null    object\n",
      " 10  ACADEMIC PERFORMANCE           375 non-null    object\n",
      " 11  FIRST YEAR PERSISTENCE COUNT   375 non-null    int64 \n",
      " 12  AGE GROUP LONG NAME            373 non-null    object\n",
      " 13  APPL FIRST LANGUAGE DESC       373 non-null    object\n",
      " 14  APPLICANT CATEGORY NAME        373 non-null    object\n",
      " 15  APPLICANT TARGET SEGMENT NAME  375 non-null    object\n",
      " 16  PREV EDU CRED LEVEL NAME       373 non-null    object\n",
      " 17  ADMIT MONTH                    375 non-null    object\n",
      "dtypes: int64(1), object(17)\n",
      "memory usage: 52.9+ KB\n"
     ]
    },
    {
     "data": {
      "text/plain": [
       "(375, 18)"
      ]
     },
     "execution_count": 17,
     "metadata": {},
     "output_type": "execute_result"
    }
   ],
   "source": [
    "cat_columns = X.columns\n",
    "\n",
    "X_cat = X[cat_columns]\n",
    "X_cat.info()\n",
    "X_cat.head()\n",
    "X_cat.shape"
   ]
  },
  {
   "cell_type": "markdown",
   "id": "c1fad5b6",
   "metadata": {
    "id": "c1fad5b6"
   },
   "source": [
    "Let us build a custom transformer to retain only top 6 categories in all categorical columns and encode categorical columns"
   ]
  },
  {
   "cell_type": "code",
   "execution_count": 18,
   "id": "0e16a5f1",
   "metadata": {
    "colab": {
     "base_uri": "https://localhost:8080/",
     "height": 287
    },
    "id": "0e16a5f1",
    "outputId": "02711b13-7558-426e-c50d-9969148ce987"
   },
   "outputs": [
    {
     "data": {
      "text/html": [
       "<div>\n",
       "<style scoped>\n",
       "    .dataframe tbody tr th:only-of-type {\n",
       "        vertical-align: middle;\n",
       "    }\n",
       "\n",
       "    .dataframe tbody tr th {\n",
       "        vertical-align: top;\n",
       "    }\n",
       "\n",
       "    .dataframe thead th {\n",
       "        text-align: right;\n",
       "    }\n",
       "</style>\n",
       "<table border=\"1\" class=\"dataframe\">\n",
       "  <thead>\n",
       "    <tr style=\"text-align: right;\">\n",
       "      <th></th>\n",
       "      <th>INTAKE COLLEGE EXPERIENCE</th>\n",
       "      <th>SCHOOL CODE</th>\n",
       "      <th>STUDENT LEVEL NAME</th>\n",
       "      <th>TIME STATUS NAME</th>\n",
       "      <th>RESIDENCY STATUS NAME</th>\n",
       "      <th>FUNDING SOURCE NAME</th>\n",
       "      <th>GENDER</th>\n",
       "      <th>DISABILITY IND</th>\n",
       "      <th>MAILING COUNTRY NAME</th>\n",
       "      <th>CURRENT STAY STATUS</th>\n",
       "      <th>ACADEMIC PERFORMANCE</th>\n",
       "      <th>FIRST YEAR PERSISTENCE COUNT</th>\n",
       "      <th>AGE GROUP LONG NAME</th>\n",
       "      <th>APPL FIRST LANGUAGE DESC</th>\n",
       "      <th>APPLICANT CATEGORY NAME</th>\n",
       "      <th>APPLICANT TARGET SEGMENT NAME</th>\n",
       "      <th>PREV EDU CRED LEVEL NAME</th>\n",
       "      <th>ADMIT MONTH</th>\n",
       "    </tr>\n",
       "  </thead>\n",
       "  <tbody>\n",
       "    <tr>\n",
       "      <th>0</th>\n",
       "      <td>4</td>\n",
       "      <td>2</td>\n",
       "      <td>1</td>\n",
       "      <td>0</td>\n",
       "      <td>1</td>\n",
       "      <td>1</td>\n",
       "      <td>1</td>\n",
       "      <td>0</td>\n",
       "      <td>0</td>\n",
       "      <td>2</td>\n",
       "      <td>0</td>\n",
       "      <td>1</td>\n",
       "      <td>2</td>\n",
       "      <td>1</td>\n",
       "      <td>1</td>\n",
       "      <td>2</td>\n",
       "      <td>0</td>\n",
       "      <td>3</td>\n",
       "    </tr>\n",
       "    <tr>\n",
       "      <th>1</th>\n",
       "      <td>0</td>\n",
       "      <td>3</td>\n",
       "      <td>1</td>\n",
       "      <td>0</td>\n",
       "      <td>1</td>\n",
       "      <td>1</td>\n",
       "      <td>0</td>\n",
       "      <td>0</td>\n",
       "      <td>0</td>\n",
       "      <td>6</td>\n",
       "      <td>2</td>\n",
       "      <td>1</td>\n",
       "      <td>5</td>\n",
       "      <td>2</td>\n",
       "      <td>3</td>\n",
       "      <td>2</td>\n",
       "      <td>1</td>\n",
       "      <td>1</td>\n",
       "    </tr>\n",
       "    <tr>\n",
       "      <th>2</th>\n",
       "      <td>3</td>\n",
       "      <td>1</td>\n",
       "      <td>1</td>\n",
       "      <td>0</td>\n",
       "      <td>1</td>\n",
       "      <td>1</td>\n",
       "      <td>1</td>\n",
       "      <td>0</td>\n",
       "      <td>0</td>\n",
       "      <td>6</td>\n",
       "      <td>2</td>\n",
       "      <td>1</td>\n",
       "      <td>2</td>\n",
       "      <td>0</td>\n",
       "      <td>1</td>\n",
       "      <td>2</td>\n",
       "      <td>0</td>\n",
       "      <td>1</td>\n",
       "    </tr>\n",
       "    <tr>\n",
       "      <th>3</th>\n",
       "      <td>1</td>\n",
       "      <td>0</td>\n",
       "      <td>1</td>\n",
       "      <td>0</td>\n",
       "      <td>1</td>\n",
       "      <td>1</td>\n",
       "      <td>0</td>\n",
       "      <td>0</td>\n",
       "      <td>0</td>\n",
       "      <td>5</td>\n",
       "      <td>2</td>\n",
       "      <td>0</td>\n",
       "      <td>3</td>\n",
       "      <td>2</td>\n",
       "      <td>1</td>\n",
       "      <td>2</td>\n",
       "      <td>1</td>\n",
       "      <td>3</td>\n",
       "    </tr>\n",
       "    <tr>\n",
       "      <th>4</th>\n",
       "      <td>2</td>\n",
       "      <td>0</td>\n",
       "      <td>1</td>\n",
       "      <td>0</td>\n",
       "      <td>1</td>\n",
       "      <td>1</td>\n",
       "      <td>1</td>\n",
       "      <td>0</td>\n",
       "      <td>0</td>\n",
       "      <td>5</td>\n",
       "      <td>0</td>\n",
       "      <td>0</td>\n",
       "      <td>2</td>\n",
       "      <td>2</td>\n",
       "      <td>3</td>\n",
       "      <td>2</td>\n",
       "      <td>2</td>\n",
       "      <td>3</td>\n",
       "    </tr>\n",
       "  </tbody>\n",
       "</table>\n",
       "</div>"
      ],
      "text/plain": [
       "   INTAKE COLLEGE EXPERIENCE  SCHOOL CODE  STUDENT LEVEL NAME  \\\n",
       "0                          4            2                   1   \n",
       "1                          0            3                   1   \n",
       "2                          3            1                   1   \n",
       "3                          1            0                   1   \n",
       "4                          2            0                   1   \n",
       "\n",
       "   TIME STATUS NAME  RESIDENCY STATUS NAME  FUNDING SOURCE NAME  GENDER  \\\n",
       "0                 0                      1                    1       1   \n",
       "1                 0                      1                    1       0   \n",
       "2                 0                      1                    1       1   \n",
       "3                 0                      1                    1       0   \n",
       "4                 0                      1                    1       1   \n",
       "\n",
       "   DISABILITY IND  MAILING COUNTRY NAME  CURRENT STAY STATUS  \\\n",
       "0               0                     0                    2   \n",
       "1               0                     0                    6   \n",
       "2               0                     0                    6   \n",
       "3               0                     0                    5   \n",
       "4               0                     0                    5   \n",
       "\n",
       "   ACADEMIC PERFORMANCE  FIRST YEAR PERSISTENCE COUNT  AGE GROUP LONG NAME  \\\n",
       "0                     0                             1                    2   \n",
       "1                     2                             1                    5   \n",
       "2                     2                             1                    2   \n",
       "3                     2                             0                    3   \n",
       "4                     0                             0                    2   \n",
       "\n",
       "   APPL FIRST LANGUAGE DESC  APPLICANT CATEGORY NAME  \\\n",
       "0                         1                        1   \n",
       "1                         2                        3   \n",
       "2                         0                        1   \n",
       "3                         2                        1   \n",
       "4                         2                        3   \n",
       "\n",
       "   APPLICANT TARGET SEGMENT NAME  PREV EDU CRED LEVEL NAME  ADMIT MONTH  \n",
       "0                              2                         0            3  \n",
       "1                              2                         1            1  \n",
       "2                              2                         0            1  \n",
       "3                              2                         1            3  \n",
       "4                              2                         2            3  "
      ]
     },
     "execution_count": 18,
     "metadata": {},
     "output_type": "execute_result"
    }
   ],
   "source": [
    "class CategoricalTransformer(BaseEstimator,TransformerMixin):\n",
    "    def __init__ (self,cols):\n",
    "        self.cols=cols\n",
    "        \n",
    "    \n",
    "    def fit(self, X, y=None):\n",
    "        return self\n",
    "    \n",
    "    def transform(self, X, y=None):        \n",
    "        return X[self.cols]\n",
    "    \n",
    "from sklearn.pipeline import Pipeline\n",
    "cat_pipeline = Pipeline([\n",
    "                ('cat_pipe',CategoricalTransformer(cols=cat_columns))\n",
    "])\n",
    "\n",
    "X_cat_trans = cat_pipeline.fit_transform(X_cat)\n",
    "X_cat_trans.head()\n",
    "\n",
    "cat_encoder = LabelEncoder()\n",
    "for i in X_cat_trans.columns:\n",
    "    X_cat_trans[i] = cat_encoder.fit_transform(X_cat_trans[i])\n",
    "\n",
    "X_cat_trans.head()\n"
   ]
  },
  {
   "cell_type": "code",
   "execution_count": 19,
   "id": "4079e54c",
   "metadata": {
    "colab": {
     "base_uri": "https://localhost:8080/"
    },
    "id": "4079e54c",
    "outputId": "903eea6e-d43b-4c31-9c39-68c28a3dee8c"
   },
   "outputs": [
    {
     "data": {
      "text/plain": [
       "MAILING COUNTRY NAME             7.789638e-01\n",
       "STUDENT LEVEL NAME               7.674223e-01\n",
       "RESIDENCY STATUS NAME            6.875489e-01\n",
       "AGE GROUP LONG NAME              6.803171e-01\n",
       "TIME STATUS NAME                 6.714830e-01\n",
       "ADMIT MONTH                      5.694109e-01\n",
       "SCHOOL CODE                      5.255581e-01\n",
       "APPLICANT TARGET SEGMENT NAME    4.351682e-01\n",
       "APPL FIRST LANGUAGE DESC         3.498137e-01\n",
       "FUNDING SOURCE NAME              3.305055e-01\n",
       "INTAKE COLLEGE EXPERIENCE        2.720758e-01\n",
       "DISABILITY IND                   1.051031e-01\n",
       "GENDER                           7.383873e-02\n",
       "APPLICANT CATEGORY NAME          4.435434e-02\n",
       "PREV EDU CRED LEVEL NAME         8.520508e-03\n",
       "FIRST YEAR PERSISTENCE COUNT     2.303092e-13\n",
       "CURRENT STAY STATUS              9.342392e-29\n",
       "ACADEMIC PERFORMANCE             2.007597e-34\n",
       "dtype: float64"
      ]
     },
     "execution_count": 19,
     "metadata": {},
     "output_type": "execute_result"
    }
   ],
   "source": [
    "X_cat_trans.isnull().sum()\n",
    "type(X_cat_trans)\n",
    "\n",
    "f_p_values = chi2(X_cat_trans,y)\n",
    "f_p_values\n",
    "\n",
    "f_values = pd.Series(f_p_values[0])\n",
    "p_values = pd.Series(f_p_values[1])\n",
    "\n",
    "p_values.index = X_cat_trans.columns\n",
    "p_values.sort_values(ascending=False)"
   ]
  },
  {
   "cell_type": "markdown",
   "id": "0e7666da",
   "metadata": {
    "id": "0e7666da"
   },
   "source": [
    "The above code has listed features in the in the decreasing order of p-values. A higher pvalue indicates a good depedence with the Target Variable. Seeing the pvalues, we can conclude that FIRST YEAR PERSISTENCE COUNT,CURRENT STAY STATUS and ACADEMIC PERFORMANCE features can be dropped because it has very low p-value. Below is the list of features that will be used to train the models."
   ]
  },
  {
   "cell_type": "code",
   "execution_count": null,
   "id": "952370c3",
   "metadata": {
    "id": "952370c3"
   },
   "outputs": [],
   "source": []
  }
 ],
 "metadata": {
  "colab": {
   "name": "feature_selection.ipynb",
   "provenance": []
  },
  "kernelspec": {
   "display_name": "Python 3 (ipykernel)",
   "language": "python",
   "name": "python3"
  },
  "language_info": {
   "codemirror_mode": {
    "name": "ipython",
    "version": 3
   },
   "file_extension": ".py",
   "mimetype": "text/x-python",
   "name": "python",
   "nbconvert_exporter": "python",
   "pygments_lexer": "ipython3",
   "version": "3.7.11"
  }
 },
 "nbformat": 4,
 "nbformat_minor": 5
}
