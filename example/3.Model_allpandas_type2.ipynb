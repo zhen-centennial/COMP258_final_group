{
 "cells": [
  {
   "cell_type": "code",
   "execution_count": 1,
   "id": "1615e0a4",
   "metadata": {},
   "outputs": [],
   "source": [
    "import tensorflow as tf\n",
    "import numpy as np\n",
    "import matplotlib.pyplot as plt\n",
    "import pandas as pd\n",
    "from tensorflow.keras import layers\n",
    "from tensorflow.keras.callbacks import ModelCheckpoint, EarlyStopping\n",
    "from sklearn.model_selection import train_test_split\n"
   ]
  },
  {
   "cell_type": "code",
   "execution_count": 2,
   "id": "adcabf89",
   "metadata": {},
   "outputs": [
    {
     "name": "stdout",
     "output_type": "stream",
     "text": [
      "X_train shape =(303, 76)\n",
      "X_val shape =(34, 76)\n",
      "y_train shape =(303, 1)\n",
      "y_val shape =(34, 1)\n"
     ]
    }
   ],
   "source": [
    "\n",
    "xtrain_path = \"./data/transformed_type2/xtrain.csv\"\n",
    "ytrain_path = \"./data/transformed_type2/ytrain.csv\"\n",
    "\n",
    "X = pd.read_csv(xtrain_path, sep=',', header=None)\n",
    "y = pd.read_csv(ytrain_path, sep=',', header=None)\n",
    "\n",
    "X = X.to_numpy()\n",
    "y = y.to_numpy()\n",
    "\n",
    "# Assume that each row of `features` corresponds to the same row as `labels`.\n",
    "assert X.shape[0] == y.shape[0]\n",
    "\n",
    "n_features = X.shape[1]\n",
    "\n",
    "X_train, X_val, y_train, y_val = train_test_split(X, y, test_size=0.10, random_state=42)\n",
    "\n",
    "print(f\"X_train shape ={X_train.shape}\")\n",
    "print(f\"X_val shape ={X_val.shape}\")\n",
    "print(f\"y_train shape ={y_train.shape}\")\n",
    "print(f\"y_val shape ={y_val.shape}\")"
   ]
  },
  {
   "cell_type": "code",
   "execution_count": 6,
   "id": "b61f5cef",
   "metadata": {
    "scrolled": false
   },
   "outputs": [
    {
     "name": "stdout",
     "output_type": "stream",
     "text": [
      "Model: \"sequential_1\"\n",
      "_________________________________________________________________\n",
      "Layer (type)                 Output Shape              Param #   \n",
      "=================================================================\n",
      "dense_2 (Dense)              (None, 32)                2464      \n",
      "_________________________________________________________________\n",
      "dropout_1 (Dropout)          (None, 32)                0         \n",
      "_________________________________________________________________\n",
      "dense_3 (Dense)              (None, 1)                 33        \n",
      "=================================================================\n",
      "Total params: 2,497\n",
      "Trainable params: 2,497\n",
      "Non-trainable params: 0\n",
      "_________________________________________________________________\n",
      "Epoch 1/100\n",
      " 1/10 [==>...........................] - ETA: 0s - loss: 0.9162 - accuracy: 0.4688\n",
      "Epoch 00001: val_accuracy improved from -inf to 0.55882, saving model to ./models_type2_allpandas\\checkpointbest.h5\n",
      "10/10 [==============================] - 0s 17ms/step - loss: 0.7908 - accuracy: 0.5017 - val_loss: 0.6387 - val_accuracy: 0.5588\n",
      "Epoch 2/100\n",
      " 1/10 [==>...........................] - ETA: 0s - loss: 0.6856 - accuracy: 0.6562\n",
      "Epoch 00002: val_accuracy improved from 0.55882 to 0.67647, saving model to ./models_type2_allpandas\\checkpointbest.h5\n",
      "10/10 [==============================] - 0s 6ms/step - loss: 0.5967 - accuracy: 0.6865 - val_loss: 0.5598 - val_accuracy: 0.6765\n",
      "Epoch 3/100\n",
      " 1/10 [==>...........................] - ETA: 0s - loss: 0.5895 - accuracy: 0.6250\n",
      "Epoch 00003: val_accuracy improved from 0.67647 to 0.76471, saving model to ./models_type2_allpandas\\checkpointbest.h5\n",
      "10/10 [==============================] - 0s 5ms/step - loss: 0.5622 - accuracy: 0.7162 - val_loss: 0.4932 - val_accuracy: 0.7647\n",
      "Epoch 4/100\n",
      " 1/10 [==>...........................] - ETA: 0s - loss: 0.4073 - accuracy: 0.8750\n",
      "Epoch 00004: val_accuracy improved from 0.76471 to 0.88235, saving model to ./models_type2_allpandas\\checkpointbest.h5\n",
      "10/10 [==============================] - 0s 7ms/step - loss: 0.4859 - accuracy: 0.7888 - val_loss: 0.4254 - val_accuracy: 0.8824\n",
      "Epoch 5/100\n",
      " 1/10 [==>...........................] - ETA: 0s - loss: 0.5019 - accuracy: 0.7812\n",
      "Epoch 00005: val_accuracy improved from 0.88235 to 0.97059, saving model to ./models_type2_allpandas\\checkpointbest.h5\n",
      "10/10 [==============================] - 0s 6ms/step - loss: 0.4384 - accuracy: 0.8119 - val_loss: 0.3682 - val_accuracy: 0.9706\n",
      "Epoch 6/100\n",
      " 1/10 [==>...........................] - ETA: 0s - loss: 0.4285 - accuracy: 0.7500\n",
      "Epoch 00006: val_accuracy did not improve from 0.97059\n",
      "10/10 [==============================] - 0s 3ms/step - loss: 0.4498 - accuracy: 0.7954 - val_loss: 0.3210 - val_accuracy: 0.9706\n",
      "Epoch 7/100\n",
      " 1/10 [==>...........................] - ETA: 0s - loss: 0.4528 - accuracy: 0.7812\n",
      "Epoch 00007: val_accuracy improved from 0.97059 to 1.00000, saving model to ./models_type2_allpandas\\checkpointbest.h5\n",
      "10/10 [==============================] - 0s 6ms/step - loss: 0.3626 - accuracy: 0.8614 - val_loss: 0.2861 - val_accuracy: 1.0000\n",
      "Epoch 8/100\n",
      " 1/10 [==>...........................] - ETA: 0s - loss: 0.3019 - accuracy: 0.9062\n",
      "Epoch 00008: val_accuracy did not improve from 1.00000\n",
      "10/10 [==============================] - 0s 3ms/step - loss: 0.3175 - accuracy: 0.8845 - val_loss: 0.2568 - val_accuracy: 1.0000\n",
      "Epoch 9/100\n",
      " 1/10 [==>...........................] - ETA: 0s - loss: 0.3529 - accuracy: 0.8750\n",
      "Epoch 00009: val_accuracy did not improve from 1.00000\n",
      "10/10 [==============================] - 0s 3ms/step - loss: 0.3374 - accuracy: 0.8647 - val_loss: 0.2291 - val_accuracy: 1.0000\n",
      "Epoch 10/100\n",
      " 1/10 [==>...........................] - ETA: 0s - loss: 0.1977 - accuracy: 0.9688\n",
      "Epoch 00010: val_accuracy did not improve from 1.00000\n",
      "10/10 [==============================] - 0s 3ms/step - loss: 0.2847 - accuracy: 0.8911 - val_loss: 0.2070 - val_accuracy: 1.0000\n",
      "Epoch 11/100\n",
      " 1/10 [==>...........................] - ETA: 0s - loss: 0.2813 - accuracy: 0.9062\n",
      "Epoch 00011: val_accuracy did not improve from 1.00000\n",
      "10/10 [==============================] - 0s 3ms/step - loss: 0.2598 - accuracy: 0.9241 - val_loss: 0.1840 - val_accuracy: 1.0000\n",
      "Epoch 12/100\n",
      " 1/10 [==>...........................] - ETA: 0s - loss: 0.1791 - accuracy: 0.9688\n",
      "Epoch 00012: val_accuracy did not improve from 1.00000\n",
      "10/10 [==============================] - 0s 3ms/step - loss: 0.2478 - accuracy: 0.9076 - val_loss: 0.1635 - val_accuracy: 1.0000\n",
      "Epoch 00012: early stopping\n"
     ]
    }
   ],
   "source": [
    "n_epochs = 100\n",
    "checkpoint_filepath = './models_type2_allpandas/checkpoint'\n",
    "model_checkpoint_callback = ModelCheckpoint(\n",
    "    filepath=checkpoint_filepath + 'best.h5', \n",
    "    save_weights_only=True, monitor='val_accuracy', verbose=1, mode='max', save_best_only=True)\n",
    "\n",
    "model_early_stop = EarlyStopping(monitor='val_accuracy', verbose=1, mode='max', patience=5)\n",
    "\n",
    "hype_model = tf.keras.Sequential([\n",
    "  layers.Dense(32, activation='relu', input_shape=(76,), kernel_initializer='glorot_uniform'),\n",
    "  layers.Dropout(rate=0.5),  \n",
    "  layers.Dense(1, activation='sigmoid')\n",
    "])\n",
    "\n",
    "hype_model.summary()\n",
    "\n",
    "hype_model.compile(loss = tf.keras.losses.BinaryCrossentropy(), metrics=['accuracy'],\n",
    "                      optimizer = tf.optimizers.Adam())\n",
    "\n",
    "history = hype_model.fit(X_train, y_train, epochs=n_epochs, callbacks=[model_checkpoint_callback, model_early_stop], \n",
    "                          validation_data=(X_val, y_val))"
   ]
  },
  {
   "cell_type": "code",
   "execution_count": 7,
   "id": "760672f9",
   "metadata": {},
   "outputs": [
    {
     "data": {
      "image/png": "[encoded data removed]",
      "text/plain": [
       "<Figure size 432x288 with 1 Axes>"
      ]
     },
     "metadata": {
      "needs_background": "light"
     },
     "output_type": "display_data"
    }
   ],
   "source": [
    "plt.plot(history.history['accuracy'])\n",
    "plt.plot(history.history['val_accuracy'])\n",
    "plt.title('model accuracy')\n",
    "plt.ylabel('accuracy')\n",
    "plt.xlabel('epochs')\n",
    "plt.legend(['train', 'val'], loc='upper left')\n",
    "plt.show()"
   ]
  },
  {
   "cell_type": "code",
   "execution_count": 9,
   "id": "bf7dcf3b",
   "metadata": {},
   "outputs": [
    {
     "name": "stdout",
     "output_type": "stream",
     "text": [
      "11/11 [==============================] - 0s 1ms/step - loss: 0.1893 - accuracy: 0.9525\n",
      "model accuracy on Train using all the features and with feature engineering = 0.9525222778320312\n"
     ]
    }
   ],
   "source": [
    "print(f\"model accuracy on Train using all the features and with feature engineering = {hype_model.evaluate(X, y)[1]}\")"
   ]
  },
  {
   "cell_type": "code",
   "execution_count": null,
   "id": "a9258cc3",
   "metadata": {},
   "outputs": [],
   "source": []
  }
 ],
 "metadata": {
  "kernelspec": {
   "display_name": "Python 3 (ipykernel)",
   "language": "python",
   "name": "python3"
  },
  "language_info": {
   "codemirror_mode": {
    "name": "ipython",
    "version": 3
   },
   "file_extension": ".py",
   "mimetype": "text/x-python",
   "name": "python",
   "nbconvert_exporter": "python",
   "pygments_lexer": "ipython3",
   "version": "3.7.11"
  }
 },
 "nbformat": 4,
 "nbformat_minor": 5
}
