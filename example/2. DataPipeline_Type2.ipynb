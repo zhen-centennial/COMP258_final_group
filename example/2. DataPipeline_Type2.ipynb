{
 "cells": [
  {
   "cell_type": "markdown",
   "metadata": {},
   "source": [
    "# Pipeline - Type2\n",
    "the following code splits and transforms the data. "
   ]
  },
  {
   "cell_type": "code",
   "execution_count": 1,
   "metadata": {
    "executionInfo": {
     "elapsed": 1054,
     "status": "ok",
     "timestamp": 1628788236080,
     "user": {
      "displayName": "Vaishali CS",
      "photoUrl": "",
      "userId": "08221778079764733474"
     },
     "user_tz": 240
    },
    "id": "UVieeYI3jAz0"
   },
   "outputs": [],
   "source": [
    "import pandas as pd\n",
    "import numpy as np\n",
    "from sklearn.base import BaseEstimator, TransformerMixin\n",
    "from sklearn.pipeline import Pipeline,FeatureUnion\n",
    "from sklearn.preprocessing import StandardScaler\n",
    "from sklearn.preprocessing import OneHotEncoder\n",
    "from sklearn.impute import SimpleImputer\n",
    "import matplotlib.pyplot as plt\n",
    "import seaborn as sns\n",
    "import joblib"
   ]
  },
  {
   "cell_type": "code",
   "execution_count": 2,
   "metadata": {
    "colab": {
     "base_uri": "https://localhost:8080/"
    },
    "executionInfo": {
     "elapsed": 274,
     "status": "ok",
     "timestamp": 1628788236351,
     "user": {
      "displayName": "Vaishali CS",
      "photoUrl": "",
      "userId": "08221778079764733474"
     },
     "user_tz": 240
    },
    "id": "0r3O3H2ljDJn",
    "outputId": "b8d0267c-c7b4-4447-d953-b842ad459237"
   },
   "outputs": [
    {
     "name": "stdout",
     "output_type": "stream",
     "text": [
      "<class 'pandas.core.frame.DataFrame'>\n",
      "Int64Index: 527 entries, 0 to 642\n",
      "Data columns (total 39 columns):\n",
      " #   Column                         Non-Null Count  Dtype  \n",
      "---  ------                         --------------  -----  \n",
      " 0   INTAKE TERM CODE               527 non-null    int64  \n",
      " 1   ADMIT TERM CODE                526 non-null    float64\n",
      " 2   ID 2                           527 non-null    int64  \n",
      " 3   RECORD COUNT                   527 non-null    int64  \n",
      " 4   INTAKE COLLEGE EXPERIENCE      527 non-null    object \n",
      " 5   PRIMARY PROGRAM CODE           527 non-null    int64  \n",
      " 6   SCHOOL CODE                    527 non-null    object \n",
      " 7   PROGRAM LONG NAME              527 non-null    object \n",
      " 8   PROGRAM SEMESTERS              527 non-null    int64  \n",
      " 9   TOTAL PROGRAM SEMESTERS        527 non-null    int64  \n",
      " 10  STUDENT LEVEL NAME             527 non-null    object \n",
      " 11  STUDENT TYPE NAME              527 non-null    object \n",
      " 12  STUDENT TYPE GROUP NAME        527 non-null    object \n",
      " 13  TIME STATUS NAME               527 non-null    object \n",
      " 14  RESIDENCY STATUS NAME          527 non-null    object \n",
      " 15  FUNDING SOURCE NAME            527 non-null    object \n",
      " 16  MAILING CITY NAME              526 non-null    object \n",
      " 17  MAILING POSTAL CODE GROUP 3    526 non-null    object \n",
      " 18  MAILING POSTAL CODE            526 non-null    object \n",
      " 19  MAILING PROVINCE NAME          526 non-null    object \n",
      " 20  GENDER                         527 non-null    object \n",
      " 21  DISABILITY IND                 527 non-null    object \n",
      " 22  MAILING COUNTRY NAME           525 non-null    object \n",
      " 23  CURRENT STAY STATUS            527 non-null    object \n",
      " 24  FUTURE TERM ENROL              527 non-null    object \n",
      " 25  ACADEMIC PERFORMANCE           527 non-null    object \n",
      " 26  EXPECTED GRAD TERM CODE        527 non-null    int64  \n",
      " 27  SUCCESS LEVEL                  527 non-null    object \n",
      " 28  FIRST YEAR PERSISTENCE COUNT   527 non-null    int64  \n",
      " 29  HS AVERAGE GRADE               168 non-null    object \n",
      " 30  HS AVERAGE MARKS               168 non-null    float64\n",
      " 31  ENGLISH TEST SCORE             511 non-null    float64\n",
      " 32  AGE GROUP LONG NAME            524 non-null    object \n",
      " 33  FIRST GENERATION IND           199 non-null    object \n",
      " 34  APPL FIRST LANGUAGE DESC       524 non-null    object \n",
      " 35  APPL EDUC INST TYPE NAME       225 non-null    object \n",
      " 36  APPLICANT CATEGORY NAME        524 non-null    object \n",
      " 37  APPLICANT TARGET SEGMENT NAME  527 non-null    object \n",
      " 38  PREV EDU CRED LEVEL NAME       524 non-null    object \n",
      "dtypes: float64(3), int64(8), object(28)\n",
      "memory usage: 164.7+ KB\n"
     ]
    }
   ],
   "source": [
    "\n",
    "df = pd.read_excel('./data/HYPE Dataset for Group Project.xlsx', sheet_name='HYPE-Retention')\n",
    "\n",
    "df.drop(df[df['SUCCESS LEVEL'] == 'In Progress'].index, inplace=True)\n",
    "\n",
    "df.info()\n",
    "df[['Term1', 'Term2', 'Term3', 'Term4', 'Term6', 'Term5', 'Term7', 'Term8', 'Term9', 'Term10']] = df[\n",
    "    'FUTURE TERM ENROL'].str.split('-', expand=True)\n",
    "df['Term1'] = df['Term1'].astype(int)\n",
    "df['Term2'] = df['Term2'].astype(int)\n",
    "df['Term3'] = df['Term3'].astype(int)\n",
    "df['Term4'] = df['Term4'].astype(int)\n",
    "df['Term6'] = df['Term5'].astype(int)\n",
    "df['Term5'] = df['Term6'].astype(int)\n",
    "df['Term7'] = df['Term7'].astype(int)\n",
    "df['Term8'] = df['Term8'].astype(int)\n",
    "df['Term9'] = df['Term9'].astype(int)\n",
    "df['Term10'] = df['Term10'].astype(int)\n",
    "\n",
    "df['ADMIT TERM CODE'].fillna(df['ADMIT TERM CODE'].mode(), inplace=True)\n",
    "df['ADMIT YEAR'] = df['ADMIT TERM CODE'].astype(str).str[:4]\n",
    "df['ADMIT MONTH'] = df['ADMIT TERM CODE'].astype(str).str[4:]\n",
    "\n",
    "df = df.groupby([\"ID 2\"]).apply(lambda x: x.sort_values([\"ADMIT YEAR\"], ascending=False)).drop_duplicates('ID 2',\n",
    "                                                                                                        keep='first').reset_index(drop=True)\n",
    "\n",
    "X = df.drop(columns=['SUCCESS LEVEL'])\n",
    "y = df['SUCCESS LEVEL'] == 'Successful'\n",
    "y = y.astype(int)\n",
    "\n",
    "\n",
    "from sklearn.model_selection import train_test_split\n",
    "\n",
    "X_train, X_test, y_train, y_test = train_test_split(X, y, test_size=0.1, random_state=42, stratify=y)"
   ]
  },
  {
   "cell_type": "code",
   "execution_count": 3,
   "metadata": {
    "executionInfo": {
     "elapsed": 137,
     "status": "ok",
     "timestamp": 1628788236484,
     "user": {
      "displayName": "Vaishali CS",
      "photoUrl": "",
      "userId": "08221778079764733474"
     },
     "user_tz": 240
    },
    "id": "XERVrzyojVvC"
   },
   "outputs": [],
   "source": [
    "class NumericalTransformer(BaseEstimator, TransformerMixin):\n",
    "    def __init__(self, cols):\n",
    "        self.cols = cols\n",
    "\n",
    "    def fit(self, X, y=None):\n",
    "        return self\n",
    "\n",
    "    def transform(self, X, y=None):\n",
    "        if 'ADMIT TERM CODE' in X.columns:\n",
    "                X.drop(columns=['ADMIT TERM CODE'], inplace=True)\n",
    "        if 'ADMIT YEAR' in  X.columns:\n",
    "                X.drop(columns=['ADMIT YEAR'], inplace=True)\n",
    "        if 'ID 2' in X.columns:\n",
    "            X.drop(columns=['ID 2'], inplace=True)\n",
    "        if 'FUTURE TERM ENROL' in X.columns:\n",
    "            X.drop(columns=['FUTURE TERM ENROL'], inplace=True)\n",
    "\n",
    "        return X[self.cols]"
   ]
  },
  {
   "cell_type": "code",
   "execution_count": 4,
   "metadata": {
    "colab": {
     "base_uri": "https://localhost:8080/"
    },
    "executionInfo": {
     "elapsed": 6,
     "status": "ok",
     "timestamp": 1628788236485,
     "user": {
      "displayName": "Vaishali CS",
      "photoUrl": "",
      "userId": "08221778079764733474"
     },
     "user_tz": 240
    },
    "id": "Y9cwRvIajWSZ",
    "outputId": "719c8442-6fdd-4c08-86aa-15236bb6e3b8"
   },
   "outputs": [],
   "source": [
    "\n",
    "def change_STAY_STATUS(row):\n",
    "    if 'Left College' in row:\n",
    "        return 'Left College'\n",
    "    if 'Completed' in row:\n",
    "        return 'Completed'\n",
    "    if 'Graduated' in row:\n",
    "        return 'Graduated'\n",
    "\n",
    "    \n",
    "class CategoricalTransformer(BaseEstimator, TransformerMixin):\n",
    "    def __init__(self, cols):\n",
    "        self.cols = cols\n",
    "\n",
    "    def fit(self, X, y=None):\n",
    "        return self\n",
    "\n",
    "    def transform(self, X, y=None):\n",
    "        X['MAILING COUNTRY NAME'].fillna('Canada', inplace=True)\n",
    "        X['PREV EDU CRED LEVEL NAME'].fillna(X['PREV EDU CRED LEVEL NAME'].mode()[0], inplace=True)\n",
    "        X['APPLICANT CATEGORY NAME'].fillna(X['APPLICANT CATEGORY NAME'].mode()[0], inplace=True)\n",
    "        X['AGE GROUP LONG NAME'].fillna(X['AGE GROUP LONG NAME'].mode()[0], inplace=True)\n",
    "\n",
    "        X['CURRENT STAY STATUS'] = X['CURRENT STAY STATUS'].apply(change_STAY_STATUS)\n",
    "\n",
    "        return X[self.cols]"
   ]
  },
  {
   "cell_type": "code",
   "execution_count": 5,
   "metadata": {},
   "outputs": [
    {
     "name": "stdout",
     "output_type": "stream",
     "text": [
      "['ADMIT MONTH', 'INTAKE COLLEGE EXPERIENCE', 'SCHOOL CODE', 'STUDENT LEVEL NAME', 'TIME STATUS NAME', 'RESIDENCY STATUS NAME', 'FUNDING SOURCE NAME', 'GENDER', 'DISABILITY IND', 'MAILING COUNTRY NAME', 'CURRENT STAY STATUS', 'ACADEMIC PERFORMANCE', 'AGE GROUP LONG NAME', 'APPL FIRST LANGUAGE DESC', 'APPLICANT CATEGORY NAME', 'APPLICANT TARGET SEGMENT NAME', 'PREV EDU CRED LEVEL NAME']\n"
     ]
    }
   ],
   "source": [
    "\n",
    "num_cols = ['PROGRAM SEMESTERS', 'TOTAL PROGRAM SEMESTERS', 'FIRST YEAR PERSISTENCE COUNT', 'ENGLISH TEST SCORE',\n",
    "            'Term1', 'Term2', 'Term3','Term4', 'Term5', 'Term6','Term7', 'Term8', 'Term9', 'Term10']\n",
    "\n",
    "cat_cols = ['ADMIT MONTH',\n",
    "            'INTAKE COLLEGE EXPERIENCE', 'SCHOOL CODE', 'STUDENT LEVEL NAME', 'TIME STATUS NAME',\n",
    "            'RESIDENCY STATUS NAME', 'FUNDING SOURCE NAME', 'GENDER', 'DISABILITY IND', 'MAILING COUNTRY NAME',\n",
    "            'CURRENT STAY STATUS',  'ACADEMIC PERFORMANCE', 'AGE GROUP LONG NAME', \n",
    "            'APPL FIRST LANGUAGE DESC',  'APPLICANT CATEGORY NAME',\n",
    "            'APPLICANT TARGET SEGMENT NAME', 'PREV EDU CRED LEVEL NAME']\n",
    "\n",
    "print(cat_cols)\n"
   ]
  },
  {
   "cell_type": "code",
   "execution_count": 6,
   "metadata": {
    "colab": {
     "base_uri": "https://localhost:8080/"
    },
    "executionInfo": {
     "elapsed": 7625,
     "status": "ok",
     "timestamp": 1628788244106,
     "user": {
      "displayName": "Vaishali CS",
      "photoUrl": "",
      "userId": "08221778079764733474"
     },
     "user_tz": 240
    },
    "id": "SvIRfTMYjnPO",
    "outputId": "6796c5f8-ed43-4da0-b2c9-f89118e76a23"
   },
   "outputs": [
    {
     "name": "stdout",
     "output_type": "stream",
     "text": [
      "shape of Train data after transformation=(337, 76)\n",
      "shape of Test data after transformation=(38, 76)\n",
      "\n",
      "following the distribution of the Target \n"
     ]
    },
    {
     "name": "stderr",
     "output_type": "stream",
     "text": [
      "C:\\Users\\vaish\\Anaconda3\\envs\\env_comp258\\lib\\site-packages\\seaborn\\_decorators.py:43: FutureWarning: Pass the following variable as a keyword arg: x. From version 0.12, the only valid positional argument will be `data`, and passing other arguments without an explicit keyword will result in an error or misinterpretation.\n",
      "  FutureWarning\n"
     ]
    },
    {
     "data": {
      "image/png": "[encoded data removed]",
      "text/plain": [
       "<Figure size 432x288 with 1 Axes>"
      ]
     },
     "metadata": {
      "needs_background": "light"
     },
     "output_type": "display_data"
    }
   ],
   "source": [
    "\n",
    "num_pipeline = Pipeline(steps=[\n",
    "    ('numerical_transformer',NumericalTransformer(cols=num_cols)),\n",
    "    ('impute',SimpleImputer(strategy='mean')),\n",
    "    ('standard_scalar',StandardScaler())\n",
    "])\n",
    "\n",
    "\n",
    "cat_pipeline = Pipeline([\n",
    "    ('cat_transformer',CategoricalTransformer(cols=cat_cols)),\n",
    "    ('cat_impute',SimpleImputer(strategy='most_frequent')),\n",
    "    ('one_hot_encoder',OneHotEncoder(sparse=False, handle_unknown = 'ignore'))\n",
    "])\n",
    "\n",
    "full_pipeline = FeatureUnion([\n",
    "    ('numerical_pipeline',num_pipeline),\n",
    "    ('categorical_pipeline',cat_pipeline)\n",
    "])\n",
    "\n",
    "pipe = Pipeline([\n",
    "    ('full_pipeline',full_pipeline)\n",
    "])\n",
    "\n",
    "traindf = pipe.fit_transform(X_train)\n",
    "\n",
    "testdf = pipe.transform(X_test)\n",
    "\n",
    "print(f'shape of Train data after transformation={traindf.shape}')\n",
    "print(f'shape of Test data after transformation={testdf.shape}')\n",
    "print(f'\\nfollowing the distribution of the Target ')\n",
    "\n",
    "x_axis, y_axis = np.unique(y, return_counts=True)\n",
    "g = sns.countplot(y);\n",
    "g.set(title='following the distribution of the Target');\n"
   ]
  },
  {
   "cell_type": "code",
   "execution_count": 7,
   "metadata": {},
   "outputs": [
    {
     "data": {
      "text/plain": [
       "['./data/transformed_type2/obj_pipeline.pkl']"
      ]
     },
     "execution_count": 7,
     "metadata": {},
     "output_type": "execute_result"
    }
   ],
   "source": [
    "np.savetxt(\"./data/transformed_type2/xtrain.csv\", traindf, delimiter=\",\")\n",
    "np.savetxt(\"./data/transformed_type2/ytrain.csv\", y_train, delimiter=\",\")\n",
    "\n",
    "np.savetxt(\"./data/transformed_type2/xtest.csv\", testdf, delimiter=\",\")\n",
    "np.savetxt(\"./data/transformed_type2/ytest.csv\", y_test, delimiter=\",\")\n",
    "\n",
    "joblib.dump(pipe, './data/transformed_type2/obj_pipeline.pkl')   # include experiment # in the name"
   ]
  },
  {
   "cell_type": "code",
   "execution_count": null,
   "metadata": {},
   "outputs": [],
   "source": []
  },
  {
   "cell_type": "code",
   "execution_count": null,
   "metadata": {},
   "outputs": [],
   "source": []
  },
  {
   "cell_type": "code",
   "execution_count": null,
   "metadata": {},
   "outputs": [],
   "source": []
  },
  {
   "cell_type": "code",
   "execution_count": null,
   "metadata": {},
   "outputs": [],
   "source": []
  }
 ],
 "metadata": {
  "colab": {
   "authorship_tag": "ABX9TyP5akrFFvjl7fq0BU57fpt9",
   "collapsed_sections": [],
   "name": "DataPipeline_v3.ipynb",
   "provenance": []
  },
  "kernelspec": {
   "display_name": "Python 3 (ipykernel)",
   "language": "python",
   "name": "python3"
  },
  "language_info": {
   "codemirror_mode": {
    "name": "ipython",
    "version": 3
   },
   "file_extension": ".py",
   "mimetype": "text/x-python",
   "name": "python",
   "nbconvert_exporter": "python",
   "pygments_lexer": "ipython3",
   "version": "3.7.11"
  }
 },
 "nbformat": 4,
 "nbformat_minor": 1
}
