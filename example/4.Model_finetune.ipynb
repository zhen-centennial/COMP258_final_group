{
 "cells": [
  {
   "cell_type": "code",
   "execution_count": 19,
   "id": "9ef0e764",
   "metadata": {},
   "outputs": [],
   "source": [
    "import pandas as pd\n",
    "import matplotlib.pyplot as plt\n",
    "import numpy as np\n",
    "import tensorflow as tf\n",
    "from tensorflow.keras import layers\n",
    "from tensorflow.keras.callbacks import EarlyStopping, ModelCheckpoint\n",
    "from keras_tuner.tuners import Hyperband\n",
    "from keras_tuner.engine.hyperparameters import HyperParameters\n",
    "from sklearn.model_selection import train_test_split\n",
    "\n",
    "# declaring global constants\n",
    "MAX_EPOCHS = 20\n",
    "MAX_TRIALS = 20\n",
    "EXECUTION_PER_TRIAL = 2\n",
    "N_EPOCH_SEARCH = 20\n",
    "\n",
    "num_classes = 10\n",
    "input_shape = (32, 32, 3)\n",
    "LOG_DIR = \"./keras_tuner_logs\""
   ]
  },
  {
   "cell_type": "code",
   "execution_count": 20,
   "id": "028bc9c3",
   "metadata": {},
   "outputs": [
    {
     "name": "stdout",
     "output_type": "stream",
     "text": [
      "X_train shape =(303, 76)\n",
      "X_val shape =(34, 76)\n",
      "y_train shape =(303, 1)\n",
      "y_val shape =(34, 1)\n"
     ]
    }
   ],
   "source": [
    "xtrain_path = \"./data/transformed_type2/xtrain.csv\"\n",
    "ytrain_path = \"./data/transformed_type2/ytrain.csv\"\n",
    "\n",
    "X = pd.read_csv(xtrain_path, sep=',', header=None)\n",
    "y = pd.read_csv(ytrain_path, sep=',', header=None)\n",
    "\n",
    "X = X.to_numpy()\n",
    "y = y.to_numpy()\n",
    "\n",
    "# Assume that each row of `features` corresponds to the same row as `labels`.\n",
    "assert X.shape[0] == y.shape[0]\n",
    "\n",
    "n_features = X.shape[1]\n",
    "\n",
    "X_train, X_val, y_train, y_val = train_test_split(X, y, test_size=0.10, random_state=42)\n",
    "\n",
    "print(f\"X_train shape ={X_train.shape}\")\n",
    "print(f\"X_val shape ={X_val.shape}\")\n",
    "print(f\"y_train shape ={y_train.shape}\")\n",
    "print(f\"y_val shape ={y_val.shape}\")"
   ]
  },
  {
   "cell_type": "markdown",
   "id": "414d2db5",
   "metadata": {},
   "source": [
    "### Helper function to return a model"
   ]
  },
  {
   "cell_type": "code",
   "execution_count": 21,
   "id": "6b8cd0a8",
   "metadata": {},
   "outputs": [],
   "source": [
    "def build_model(hp):\n",
    "    model = tf.keras.models.Sequential()\n",
    "    \n",
    "    #  configure keras tuner to choose a particular number of neurons\n",
    "    hp_units = hp.Int('units', min_value=16, max_value=64, step=16)\n",
    "    model.add(layers.Dense(units=hp_units, activation='relu', input_shape=(76,), kernel_initializer='glorot_uniform'))\n",
    "    layers.Dropout(rate=0.5),  \n",
    "    model.add(layers.Dense(1, activation=\"sigmoid\"))\n",
    "    \n",
    "    \n",
    "    # set the loss and optimizer\n",
    "    model.compile(loss= tf.keras.losses.BinaryCrossentropy(),\n",
    "                  optimizer=tf.keras.optimizers.Adam(\n",
    "                hp.Float(\n",
    "                    'learning_rate',\n",
    "                    min_value=1e-4,\n",
    "                    max_value=1e-2,\n",
    "                    sampling='LOG',\n",
    "                    default=1e-3\n",
    "                )),\n",
    "                  metrics=[\"accuracy\"])\n",
    "\n",
    "    return model"
   ]
  },
  {
   "cell_type": "markdown",
   "id": "af78f5d7",
   "metadata": {},
   "source": [
    "### Start the search"
   ]
  },
  {
   "cell_type": "code",
   "execution_count": 22,
   "id": "22857be2",
   "metadata": {},
   "outputs": [
    {
     "name": "stdout",
     "output_type": "stream",
     "text": [
      "INFO:tensorflow:Reloading Oracle from existing project ./keras_tuner_logs\\hype_tune\\oracle.json\n",
      "INFO:tensorflow:Reloading Tuner from ./keras_tuner_logs\\hype_tune\\tuner0.json\n",
      "INFO:tensorflow:Oracle triggered exit\n"
     ]
    }
   ],
   "source": [
    "# instantiate the search algo with 2 epochs per trial, objective and 20 model configurations.\n",
    "# also set the directory for log files.\n",
    "\n",
    "tuner = Hyperband(build_model, objective=\"val_accuracy\", directory=LOG_DIR, max_epochs = MAX_EPOCHS,\n",
    "                     executions_per_trial=EXECUTION_PER_TRIAL, project_name=\"hype_tune\")\n",
    "\n",
    "tuner.search(x=X_train, y=y_train, epochs=N_EPOCH_SEARCH, batch_size = 16, validation_data=(X_val, y_val))"
   ]
  },
  {
   "cell_type": "code",
   "execution_count": 24,
   "id": "74bcf824",
   "metadata": {},
   "outputs": [
    {
     "name": "stdout",
     "output_type": "stream",
     "text": [
      "\n",
      "The hyperparameter search is complete. The optimal number of units in the first densely-connected\n",
      "layer is 64 and the optimal learning rate for the optimizer\n",
      "is 0.006997708001704712.\n",
      "\n",
      "Epoch 1/20\n",
      "10/10 [==============================] - 0s 14ms/step - loss: 0.4525 - accuracy: 0.7558 - val_loss: 0.1529 - val_accuracy: 1.0000\n",
      "Epoch 2/20\n",
      "10/10 [==============================] - 0s 3ms/step - loss: 0.2027 - accuracy: 0.9175 - val_loss: 0.0737 - val_accuracy: 1.0000\n",
      "Epoch 3/20\n",
      "10/10 [==============================] - 0s 3ms/step - loss: 0.1170 - accuracy: 0.9538 - val_loss: 0.0660 - val_accuracy: 1.0000\n",
      "Epoch 4/20\n",
      "10/10 [==============================] - 0s 3ms/step - loss: 0.0612 - accuracy: 0.9901 - val_loss: 0.0361 - val_accuracy: 1.0000\n",
      "Epoch 5/20\n",
      "10/10 [==============================] - 0s 3ms/step - loss: 0.0372 - accuracy: 0.9901 - val_loss: 0.0275 - val_accuracy: 1.0000\n",
      "Epoch 6/20\n",
      "10/10 [==============================] - 0s 3ms/step - loss: 0.0204 - accuracy: 1.0000 - val_loss: 0.0137 - val_accuracy: 1.0000\n",
      "Epoch 7/20\n",
      "10/10 [==============================] - 0s 3ms/step - loss: 0.0126 - accuracy: 1.0000 - val_loss: 0.0093 - val_accuracy: 1.0000\n",
      "Epoch 8/20\n",
      "10/10 [==============================] - 0s 3ms/step - loss: 0.0088 - accuracy: 1.0000 - val_loss: 0.0084 - val_accuracy: 1.0000\n",
      "Epoch 9/20\n",
      "10/10 [==============================] - 0s 3ms/step - loss: 0.0063 - accuracy: 1.0000 - val_loss: 0.0060 - val_accuracy: 1.0000\n",
      "Epoch 10/20\n",
      "10/10 [==============================] - 0s 3ms/step - loss: 0.0048 - accuracy: 1.0000 - val_loss: 0.0052 - val_accuracy: 1.0000\n",
      "Epoch 11/20\n",
      "10/10 [==============================] - 0s 3ms/step - loss: 0.0038 - accuracy: 1.0000 - val_loss: 0.0043 - val_accuracy: 1.0000\n",
      "Epoch 12/20\n",
      "10/10 [==============================] - 0s 3ms/step - loss: 0.0031 - accuracy: 1.0000 - val_loss: 0.0030 - val_accuracy: 1.0000\n",
      "Epoch 13/20\n",
      "10/10 [==============================] - 0s 3ms/step - loss: 0.0025 - accuracy: 1.0000 - val_loss: 0.0028 - val_accuracy: 1.0000\n",
      "Epoch 14/20\n",
      "10/10 [==============================] - 0s 3ms/step - loss: 0.0022 - accuracy: 1.0000 - val_loss: 0.0025 - val_accuracy: 1.0000\n",
      "Epoch 15/20\n",
      "10/10 [==============================] - 0s 3ms/step - loss: 0.0018 - accuracy: 1.0000 - val_loss: 0.0024 - val_accuracy: 1.0000\n",
      "Epoch 16/20\n",
      "10/10 [==============================] - 0s 3ms/step - loss: 0.0016 - accuracy: 1.0000 - val_loss: 0.0020 - val_accuracy: 1.0000\n",
      "Epoch 17/20\n",
      "10/10 [==============================] - 0s 3ms/step - loss: 0.0014 - accuracy: 1.0000 - val_loss: 0.0017 - val_accuracy: 1.0000\n",
      "Epoch 18/20\n",
      "10/10 [==============================] - 0s 3ms/step - loss: 0.0012 - accuracy: 1.0000 - val_loss: 0.0015 - val_accuracy: 1.0000\n",
      "Epoch 19/20\n",
      "10/10 [==============================] - 0s 3ms/step - loss: 0.0011 - accuracy: 1.0000 - val_loss: 0.0014 - val_accuracy: 1.0000\n",
      "Epoch 20/20\n",
      "10/10 [==============================] - 0s 3ms/step - loss: 9.7194e-04 - accuracy: 1.0000 - val_loss: 0.0013 - val_accuracy: 1.0000\n"
     ]
    }
   ],
   "source": [
    "# Get the optimal hyperparameters\n",
    "best_hps=tuner.get_best_hyperparameters(num_trials=1)[0]\n",
    "\n",
    "print(f\"\"\"\n",
    "The hyperparameter search is complete. The optimal number of units in the first densely-connected\n",
    "layer is {best_hps.get('units')} and the optimal learning rate for the optimizer\n",
    "is {best_hps.get('learning_rate')}.\n",
    "\"\"\")\n",
    "\n",
    "hypermodel = tuner.hypermodel.build(best_hps)\n",
    "\n",
    "# Retrain the model\n",
    "history = hypermodel.fit(X_train, y_train, epochs=20, validation_data=(X_val, y_val))"
   ]
  },
  {
   "cell_type": "code",
   "execution_count": 28,
   "id": "40edad26",
   "metadata": {},
   "outputs": [
    {
     "name": "stdout",
     "output_type": "stream",
     "text": [
      "11/11 [==============================] - 0s 1ms/step - loss: 9.5367e-04 - accuracy: 1.0000\n",
      "Tuned Model accuracy= = 1.0\n"
     ]
    }
   ],
   "source": [
    "print(f\"Tuned Model accuracy= = {hypermodel.evaluate(X, y)[1]}\")"
   ]
  },
  {
   "cell_type": "markdown",
   "id": "b6635bce",
   "metadata": {},
   "source": [
    "## predict on Unseen Test\n"
   ]
  },
  {
   "cell_type": "code",
   "execution_count": 31,
   "id": "6bbad749",
   "metadata": {},
   "outputs": [
    {
     "name": "stdout",
     "output_type": "stream",
     "text": [
      "Xtest shape =(38, 76)\n",
      "ytest shape =(38, 1)\n",
      "2/2 [==============================] - 0s 1ms/step - loss: 0.0014 - accuracy: 1.0000\n",
      "Tuned Model accuracy on Hold-out Test Set = 1.0\n"
     ]
    }
   ],
   "source": [
    "Xtest = pd.read_csv(\"./data/transformed_type2/xtest.csv\", sep=',', header=None)\n",
    "ytest = pd.read_csv(\"./data/transformed_type2/ytest.csv\", sep=',', header=None)\n",
    "\n",
    "Xtest = Xtest.to_numpy()\n",
    "ytest = ytest.to_numpy()\n",
    "\n",
    "# Assume that each row of `features` corresponds to the same row as `labels`.\n",
    "assert Xtest.shape[0] == ytest.shape[0]\n",
    "print(f\"Xtest shape ={Xtest.shape}\")\n",
    "print(f\"ytest shape ={ytest.shape}\")\n",
    "\n",
    "print(f\"Tuned Model accuracy on Hold-out Test Set = {hypermodel.evaluate(Xtest, ytest)[1]}\")\n"
   ]
  },
  {
   "cell_type": "code",
   "execution_count": null,
   "id": "fa739591",
   "metadata": {},
   "outputs": [],
   "source": []
  }
 ],
 "metadata": {
  "kernelspec": {
   "display_name": "Python 3 (ipykernel)",
   "language": "python",
   "name": "python3"
  },
  "language_info": {
   "codemirror_mode": {
    "name": "ipython",
    "version": 3
   },
   "file_extension": ".py",
   "mimetype": "text/x-python",
   "name": "python",
   "nbconvert_exporter": "python",
   "pygments_lexer": "ipython3",
   "version": "3.7.11"
  }
 },
 "nbformat": 4,
 "nbformat_minor": 5
}
