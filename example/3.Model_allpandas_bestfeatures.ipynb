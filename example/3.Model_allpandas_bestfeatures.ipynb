{
 "cells": [
  {
   "cell_type": "code",
   "execution_count": 4,
   "id": "1615e0a4",
   "metadata": {},
   "outputs": [],
   "source": [
    "import tensorflow as tf\n",
    "import numpy as np\n",
    "import matplotlib.pyplot as plt\n",
    "import pandas as pd\n",
    "from tensorflow.keras import layers\n",
    "from tensorflow.keras.callbacks import ModelCheckpoint, EarlyStopping\n",
    "from sklearn.model_selection import train_test_split\n"
   ]
  },
  {
   "cell_type": "code",
   "execution_count": 5,
   "id": "adcabf89",
   "metadata": {},
   "outputs": [
    {
     "name": "stdout",
     "output_type": "stream",
     "text": [
      "X_train shape =(303, 68)\n",
      "X_val shape =(34, 68)\n",
      "y_train shape =(303, 1)\n",
      "y_val shape =(34, 1)\n"
     ]
    }
   ],
   "source": [
    "\n",
    "xtrain_path = \"./data/transformed_bestfeatures/xtrain.csv\"\n",
    "ytrain_path = \"./data/transformed_bestfeatures/ytrain.csv\"\n",
    "\n",
    "X = pd.read_csv(xtrain_path, sep=',', header=None)\n",
    "y = pd.read_csv(ytrain_path, sep=',', header=None)\n",
    "\n",
    "X = X.to_numpy()\n",
    "y = y.to_numpy()\n",
    "\n",
    "# Assume that each row of `features` corresponds to the same row as `labels`.\n",
    "assert X.shape[0] == y.shape[0]\n",
    "\n",
    "n_features = X.shape[1]\n",
    "\n",
    "X_train, X_val, y_train, y_val = train_test_split(X, y, test_size=0.10, random_state=42)\n",
    "\n",
    "print(f\"X_train shape ={X_train.shape}\")\n",
    "print(f\"X_val shape ={X_val.shape}\")\n",
    "print(f\"y_train shape ={y_train.shape}\")\n",
    "print(f\"y_val shape ={y_val.shape}\")"
   ]
  },
  {
   "cell_type": "code",
   "execution_count": 6,
   "id": "b61f5cef",
   "metadata": {
    "scrolled": false
   },
   "outputs": [
    {
     "name": "stdout",
     "output_type": "stream",
     "text": [
      "Model: \"sequential_1\"\n",
      "_________________________________________________________________\n",
      "Layer (type)                 Output Shape              Param #   \n",
      "=================================================================\n",
      "dense_2 (Dense)              (None, 32)                2208      \n",
      "_________________________________________________________________\n",
      "dropout_1 (Dropout)          (None, 32)                0         \n",
      "_________________________________________________________________\n",
      "dense_3 (Dense)              (None, 1)                 33        \n",
      "=================================================================\n",
      "Total params: 2,241\n",
      "Trainable params: 2,241\n",
      "Non-trainable params: 0\n",
      "_________________________________________________________________\n",
      "Epoch 1/100\n",
      " 1/10 [==>...........................] - ETA: 0s - loss: 0.8726 - accuracy: 0.5312\n",
      "Epoch 00001: val_accuracy improved from -inf to 0.47059, saving model to ./models_bestfeatures_allpandas\\checkpointbest.h5\n",
      "10/10 [==============================] - 0s 18ms/step - loss: 0.7823 - accuracy: 0.5413 - val_loss: 0.6893 - val_accuracy: 0.4706\n",
      "Epoch 2/100\n",
      " 1/10 [==>...........................] - ETA: 0s - loss: 0.7346 - accuracy: 0.5625\n",
      "Epoch 00002: val_accuracy improved from 0.47059 to 0.58824, saving model to ./models_bestfeatures_allpandas\\checkpointbest.h5\n",
      "10/10 [==============================] - 0s 3ms/step - loss: 0.6952 - accuracy: 0.5809 - val_loss: 0.6122 - val_accuracy: 0.5882\n",
      "Epoch 3/100\n",
      " 1/10 [==>...........................] - ETA: 0s - loss: 0.7207 - accuracy: 0.5938\n",
      "Epoch 00003: val_accuracy improved from 0.58824 to 0.67647, saving model to ./models_bestfeatures_allpandas\\checkpointbest.h5\n",
      "10/10 [==============================] - 0s 3ms/step - loss: 0.6257 - accuracy: 0.6832 - val_loss: 0.5533 - val_accuracy: 0.6765\n",
      "Epoch 4/100\n",
      " 1/10 [==>...........................] - ETA: 0s - loss: 0.5083 - accuracy: 0.8125\n",
      "Epoch 00004: val_accuracy did not improve from 0.67647\n",
      "10/10 [==============================] - 0s 3ms/step - loss: 0.6029 - accuracy: 0.6337 - val_loss: 0.5172 - val_accuracy: 0.6765\n",
      "Epoch 5/100\n",
      " 1/10 [==>...........................] - ETA: 0s - loss: 0.6332 - accuracy: 0.6562\n",
      "Epoch 00005: val_accuracy improved from 0.67647 to 0.76471, saving model to ./models_bestfeatures_allpandas\\checkpointbest.h5\n",
      "10/10 [==============================] - 0s 4ms/step - loss: 0.5990 - accuracy: 0.6931 - val_loss: 0.4863 - val_accuracy: 0.7647\n",
      "Epoch 6/100\n",
      " 1/10 [==>...........................] - ETA: 0s - loss: 0.4399 - accuracy: 0.8125\n",
      "Epoch 00006: val_accuracy improved from 0.76471 to 0.79412, saving model to ./models_bestfeatures_allpandas\\checkpointbest.h5\n",
      "10/10 [==============================] - 0s 3ms/step - loss: 0.5387 - accuracy: 0.7228 - val_loss: 0.4638 - val_accuracy: 0.7941\n",
      "Epoch 7/100\n",
      " 1/10 [==>...........................] - ETA: 0s - loss: 0.4970 - accuracy: 0.7812\n",
      "Epoch 00007: val_accuracy did not improve from 0.79412\n",
      "10/10 [==============================] - 0s 3ms/step - loss: 0.5051 - accuracy: 0.7657 - val_loss: 0.4439 - val_accuracy: 0.7941\n",
      "Epoch 8/100\n",
      " 1/10 [==>...........................] - ETA: 0s - loss: 0.5494 - accuracy: 0.7188\n",
      "Epoch 00008: val_accuracy improved from 0.79412 to 0.82353, saving model to ./models_bestfeatures_allpandas\\checkpointbest.h5\n",
      "10/10 [==============================] - 0s 3ms/step - loss: 0.5188 - accuracy: 0.7558 - val_loss: 0.4222 - val_accuracy: 0.8235\n",
      "Epoch 9/100\n",
      " 1/10 [==>...........................] - ETA: 0s - loss: 0.5476 - accuracy: 0.7500\n",
      "Epoch 00009: val_accuracy improved from 0.82353 to 0.85294, saving model to ./models_bestfeatures_allpandas\\checkpointbest.h5\n",
      "10/10 [==============================] - 0s 3ms/step - loss: 0.4867 - accuracy: 0.7624 - val_loss: 0.4057 - val_accuracy: 0.8529\n",
      "Epoch 10/100\n",
      " 1/10 [==>...........................] - ETA: 0s - loss: 0.4617 - accuracy: 0.8125\n",
      "Epoch 00010: val_accuracy did not improve from 0.85294\n",
      "10/10 [==============================] - 0s 3ms/step - loss: 0.4781 - accuracy: 0.7888 - val_loss: 0.3932 - val_accuracy: 0.8529\n",
      "Epoch 11/100\n",
      " 1/10 [==>...........................] - ETA: 0s - loss: 0.5405 - accuracy: 0.7812\n",
      "Epoch 00011: val_accuracy did not improve from 0.85294\n",
      "10/10 [==============================] - 0s 3ms/step - loss: 0.4855 - accuracy: 0.7789 - val_loss: 0.3818 - val_accuracy: 0.8529\n",
      "Epoch 12/100\n",
      " 1/10 [==>...........................] - ETA: 0s - loss: 0.3818 - accuracy: 0.8438\n",
      "Epoch 00012: val_accuracy did not improve from 0.85294\n",
      "10/10 [==============================] - 0s 3ms/step - loss: 0.4667 - accuracy: 0.7558 - val_loss: 0.3772 - val_accuracy: 0.8529\n",
      "Epoch 13/100\n",
      " 1/10 [==>...........................] - ETA: 0s - loss: 0.4504 - accuracy: 0.7812\n",
      "Epoch 00013: val_accuracy did not improve from 0.85294\n",
      "10/10 [==============================] - 0s 3ms/step - loss: 0.4365 - accuracy: 0.7954 - val_loss: 0.3653 - val_accuracy: 0.8529\n",
      "Epoch 14/100\n",
      " 1/10 [==>...........................] - ETA: 0s - loss: 0.3352 - accuracy: 0.8750\n",
      "Epoch 00014: val_accuracy did not improve from 0.85294\n",
      "10/10 [==============================] - 0s 3ms/step - loss: 0.4475 - accuracy: 0.7954 - val_loss: 0.3612 - val_accuracy: 0.8529\n",
      "Epoch 00014: early stopping\n"
     ]
    }
   ],
   "source": [
    "n_epochs = 100\n",
    "checkpoint_filepath = './models_bestfeatures_allpandas/checkpoint'\n",
    "model_checkpoint_callback = ModelCheckpoint(\n",
    "    filepath=checkpoint_filepath + 'best.h5', \n",
    "    save_weights_only=True, monitor='val_accuracy', verbose=1, mode='max', save_best_only=True)\n",
    "\n",
    "model_early_stop = EarlyStopping(monitor='val_accuracy', verbose=1,mode='max', patience=5)\n",
    "\n",
    "hype_model = tf.keras.Sequential([\n",
    "  layers.Dense(32, activation='relu',  input_shape=(68,), kernel_initializer='glorot_uniform'),\n",
    "  layers.Dropout(rate=0.5),  \n",
    "  layers.Dense(1, activation='sigmoid')\n",
    "])\n",
    "\n",
    "hype_model.compile(loss = tf.keras.losses.BinaryCrossentropy(), metrics=['accuracy'],\n",
    "                      optimizer = tf.optimizers.Adam())\n",
    "\n",
    "hype_model.summary()\n",
    "\n",
    "history = hype_model.fit(X_train, y_train, epochs=n_epochs, callbacks=[model_checkpoint_callback, model_early_stop], \n",
    "                          validation_data=(X_val, y_val))"
   ]
  },
  {
   "cell_type": "code",
   "execution_count": 7,
   "id": "760672f9",
   "metadata": {},
   "outputs": [
    {
     "data": {
      "image/png": "[encoded data removed]",
      "text/plain": [
       "<Figure size 432x288 with 1 Axes>"
      ]
     },
     "metadata": {
      "needs_background": "light"
     },
     "output_type": "display_data"
    }
   ],
   "source": [
    "plt.plot(history.history['accuracy'])\n",
    "plt.plot(history.history['val_accuracy'])\n",
    "plt.title('model accuracy')\n",
    "plt.ylabel('accuracy')\n",
    "plt.xlabel('epochs')\n",
    "plt.legend(['train', 'val'], loc='upper left')\n",
    "plt.show()"
   ]
  },
  {
   "cell_type": "code",
   "execution_count": 9,
   "id": "bf7dcf3b",
   "metadata": {},
   "outputs": [
    {
     "name": "stdout",
     "output_type": "stream",
     "text": [
      "11/11 [==============================] - 0s 1ms/step - loss: 0.3876 - accuracy: 0.8398\n",
      "model accuracy on Train using top p-value features = 0.8397626280784607\n"
     ]
    }
   ],
   "source": [
    "print(f\"model accuracy on Train using top p-value features = {hype_model.evaluate(X, y)[1]}\")"
   ]
  },
  {
   "cell_type": "code",
   "execution_count": null,
   "id": "7285dc4c",
   "metadata": {},
   "outputs": [],
   "source": []
  }
 ],
 "metadata": {
  "kernelspec": {
   "display_name": "Python 3 (ipykernel)",
   "language": "python",
   "name": "python3"
  },
  "language_info": {
   "codemirror_mode": {
    "name": "ipython",
    "version": 3
   },
   "file_extension": ".py",
   "mimetype": "text/x-python",
   "name": "python",
   "nbconvert_exporter": "python",
   "pygments_lexer": "ipython3",
   "version": "3.7.11"
  }
 },
 "nbformat": 4,
 "nbformat_minor": 5
}
