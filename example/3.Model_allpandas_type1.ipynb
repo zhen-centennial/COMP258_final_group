{
 "cells": [
  {
   "cell_type": "code",
   "execution_count": 1,
   "id": "1615e0a4",
   "metadata": {},
   "outputs": [],
   "source": [
    "import tensorflow as tf\n",
    "import numpy as np\n",
    "import matplotlib.pyplot as plt\n",
    "import pandas as pd\n",
    "from tensorflow.keras import layers\n",
    "from tensorflow.keras.callbacks import ModelCheckpoint, EarlyStopping\n",
    "from sklearn.model_selection import train_test_split\n"
   ]
  },
  {
   "cell_type": "code",
   "execution_count": 2,
   "id": "adcabf89",
   "metadata": {},
   "outputs": [
    {
     "name": "stdout",
     "output_type": "stream",
     "text": [
      "X_train shape =(303, 70)\n",
      "X_val shape =(34, 70)\n",
      "y_train shape =(303, 1)\n",
      "y_val shape =(34, 1)\n"
     ]
    }
   ],
   "source": [
    "\n",
    "xtrain_path = \"./data/transformed_type1/xtrain.csv\"\n",
    "ytrain_path = \"./data/transformed_type1/ytrain.csv\"\n",
    "\n",
    "X = pd.read_csv(xtrain_path, sep=',', header=None)\n",
    "y = pd.read_csv(ytrain_path, sep=',', header=None)\n",
    "\n",
    "X = X.to_numpy()\n",
    "y = y.to_numpy()\n",
    "\n",
    "# Assume that each row of `features` corresponds to the same row as `labels`.\n",
    "assert X.shape[0] == y.shape[0]\n",
    "\n",
    "n_features = X.shape[1]\n",
    "\n",
    "X_train, X_val, y_train, y_val = train_test_split(X, y, test_size=0.10, random_state=42)\n",
    "\n",
    "print(f\"X_train shape ={X_train.shape}\")\n",
    "print(f\"X_val shape ={X_val.shape}\")\n",
    "print(f\"y_train shape ={y_train.shape}\")\n",
    "print(f\"y_val shape ={y_val.shape}\")"
   ]
  },
  {
   "cell_type": "code",
   "execution_count": 3,
   "id": "b61f5cef",
   "metadata": {
    "scrolled": false
   },
   "outputs": [
    {
     "name": "stdout",
     "output_type": "stream",
     "text": [
      "Model: \"sequential\"\n",
      "_________________________________________________________________\n",
      "Layer (type)                 Output Shape              Param #   \n",
      "=================================================================\n",
      "dense (Dense)                (None, 32)                2272      \n",
      "_________________________________________________________________\n",
      "dropout (Dropout)            (None, 32)                0         \n",
      "_________________________________________________________________\n",
      "dense_1 (Dense)              (None, 1)                 33        \n",
      "=================================================================\n",
      "Total params: 2,305\n",
      "Trainable params: 2,305\n",
      "Non-trainable params: 0\n",
      "_________________________________________________________________\n",
      "Epoch 1/100\n",
      " 1/10 [==>...........................] - ETA: 0s - loss: 0.5842 - accuracy: 0.6875WARNING:tensorflow:Callbacks method `on_test_batch_end` is slow compared to the batch time (batch time: 0.0000s vs `on_test_batch_end` time: 0.0010s). Check your callbacks.\n",
      "\n",
      "Epoch 00001: val_accuracy improved from -inf to 0.73529, saving model to ./models_type1_allpandas\\checkpointbest.h5\n",
      "10/10 [==============================] - 1s 65ms/step - loss: 0.6020 - accuracy: 0.6667 - val_loss: 0.5183 - val_accuracy: 0.7353\n",
      "Epoch 2/100\n",
      " 1/10 [==>...........................] - ETA: 0s - loss: 0.5475 - accuracy: 0.6875\n",
      "Epoch 00002: val_accuracy improved from 0.73529 to 0.79412, saving model to ./models_type1_allpandas\\checkpointbest.h5\n",
      "10/10 [==============================] - 0s 7ms/step - loss: 0.5397 - accuracy: 0.7162 - val_loss: 0.4669 - val_accuracy: 0.7941\n",
      "Epoch 3/100\n",
      " 1/10 [==>...........................] - ETA: 0s - loss: 0.5839 - accuracy: 0.6250\n",
      "Epoch 00003: val_accuracy did not improve from 0.79412\n",
      "10/10 [==============================] - 0s 3ms/step - loss: 0.4962 - accuracy: 0.7426 - val_loss: 0.4240 - val_accuracy: 0.7941\n",
      "Epoch 4/100\n",
      " 1/10 [==>...........................] - ETA: 0s - loss: 0.4428 - accuracy: 0.8125\n",
      "Epoch 00004: val_accuracy improved from 0.79412 to 0.85294, saving model to ./models_type1_allpandas\\checkpointbest.h5\n",
      "10/10 [==============================] - 0s 6ms/step - loss: 0.4486 - accuracy: 0.7822 - val_loss: 0.3859 - val_accuracy: 0.8529\n",
      "Epoch 5/100\n",
      " 1/10 [==>...........................] - ETA: 0s - loss: 0.3557 - accuracy: 0.9062\n",
      "Epoch 00005: val_accuracy did not improve from 0.85294\n",
      "10/10 [==============================] - 0s 3ms/step - loss: 0.4264 - accuracy: 0.7987 - val_loss: 0.3478 - val_accuracy: 0.8529\n",
      "Epoch 6/100\n",
      " 1/10 [==>...........................] - ETA: 0s - loss: 0.4064 - accuracy: 0.7812\n",
      "Epoch 00006: val_accuracy did not improve from 0.85294\n",
      "10/10 [==============================] - 0s 3ms/step - loss: 0.3865 - accuracy: 0.8383 - val_loss: 0.3183 - val_accuracy: 0.8529\n",
      "Epoch 00006: early stopping\n"
     ]
    }
   ],
   "source": [
    "n_epochs = 100\n",
    "checkpoint_filepath = './models_type1_allpandas/checkpoint'\n",
    "model_checkpoint_callback = ModelCheckpoint(\n",
    "    filepath=checkpoint_filepath + 'best.h5', \n",
    "    save_weights_only=True, monitor='val_accuracy', verbose = 1, mode='max', save_best_only=True)\n",
    "\n",
    "model_early_stop = EarlyStopping(monitor='val_accuracy', verbose =1, mode='max', patience=2)\n",
    "\n",
    "hype_model = tf.keras.Sequential([\n",
    "  layers.Dense(32, activation='relu', input_shape=(70,), kernel_initializer='glorot_uniform'),\n",
    "  layers.Dropout(rate=0.5),  \n",
    "  layers.Dense(1, activation='sigmoid')\n",
    "])\n",
    "\n",
    "hype_model.compile(loss = tf.keras.losses.BinaryCrossentropy(), metrics=['accuracy'],\n",
    "                      optimizer = tf.optimizers.Adam())\n",
    "\n",
    "hype_model.summary()\n",
    "\n",
    "history = hype_model.fit(X_train, y_train, epochs=n_epochs, callbacks=[model_checkpoint_callback, model_early_stop], \n",
    "                          validation_data=(X_val, y_val))"
   ]
  },
  {
   "cell_type": "code",
   "execution_count": 4,
   "id": "760672f9",
   "metadata": {},
   "outputs": [
    {
     "data": {
      "image/png": "[encoded data removed]",
      "text/plain": [
       "<Figure size 432x288 with 1 Axes>"
      ]
     },
     "metadata": {
      "needs_background": "light"
     },
     "output_type": "display_data"
    }
   ],
   "source": [
    "plt.plot(history.history['accuracy'])\n",
    "plt.plot(history.history['val_accuracy'])\n",
    "plt.title('model accuracy')\n",
    "plt.ylabel('accuracy')\n",
    "plt.xlabel('epochs')\n",
    "plt.legend(['train', 'val'], loc='upper left')\n",
    "plt.show()"
   ]
  },
  {
   "cell_type": "code",
   "execution_count": 6,
   "id": "bf7dcf3b",
   "metadata": {},
   "outputs": [
    {
     "name": "stdout",
     "output_type": "stream",
     "text": [
      "11/11 [==============================] - 0s 998us/step - loss: 0.3403 - accuracy: 0.8546\n",
      "model accuracy on Train using all given features except 'APPL FIRST LANGUAGE DESC' = 0.8545994162559509\n"
     ]
    }
   ],
   "source": [
    "print(f\"model accuracy on Train using all given features except 'APPL FIRST LANGUAGE DESC' = {hype_model.evaluate(X, y)[1]}\")"
   ]
  },
  {
   "cell_type": "code",
   "execution_count": null,
   "id": "09465dbf",
   "metadata": {},
   "outputs": [],
   "source": []
  }
 ],
 "metadata": {
  "kernelspec": {
   "display_name": "Python 3 (ipykernel)",
   "language": "python",
   "name": "python3"
  },
  "language_info": {
   "codemirror_mode": {
    "name": "ipython",
    "version": 3
   },
   "file_extension": ".py",
   "mimetype": "text/x-python",
   "name": "python",
   "nbconvert_exporter": "python",
   "pygments_lexer": "ipython3",
   "version": "3.7.11"
  }
 },
 "nbformat": 4,
 "nbformat_minor": 5
}
