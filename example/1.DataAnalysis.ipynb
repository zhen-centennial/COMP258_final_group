{
 "cells": [
  {
   "cell_type": "markdown",
   "id": "3351dce8",
   "metadata": {},
   "source": [
    "# 1. Introduction\n",
    "\n",
    "### 1.1 About the problem\n",
    "There is a need to develop a software product that can detect if a student succeeds in a course he/she has taken or not. If the likelihood of a student being unsuccessful in his/her course is detected early, then the college can provide him the needed support to help him succeed. \n",
    "\n",
    "\n",
    "### 1.2 - The Dataset Source\n",
    "\n",
    "The dataset was obtained from the course shell. \n",
    "This dataset contains students records that contain \n",
    "\n",
    "### 1.3 General Information\n",
    "Original format: excel sheet\n",
    "\n",
    "**Dataset shape**: 668 x 39 (rows x columns)\n",
    "\n",
    "\n",
    "**Categorical Features**\n",
    "\n",
    "_INTAKE TERM CODE\t\n",
    "_INTAKE COLLEGE EXPERIENCE\t\n",
    "_SCHOOL CODE\t\n",
    "_PROGRAM LONG NAME\t\n",
    "_STUDENT LEVEL NAME\t\n",
    "_STUDENT TYPE NAME\t\n",
    "_STUDENT TYPE GROUP NAME\t\n",
    "_TIME STATUS NAME\t\n",
    "_RESIDENCY STATUS NAME\t\n",
    "_FUNDING SOURCE NAME\t\n",
    "_MAILING CITY NAME\t\n",
    "_MAILING POSTAL CODE GROUP 3\t\n",
    "_MAILING POSTAL CODE\t\n",
    "_MAILING PROVINCE NAME\t\n",
    "_GENDER\t\n",
    "_DISABILITY IND\t\n",
    "_MAILING COUNTRY NAME\t\n",
    "_CURRENT STAY STATUS\t\n",
    "_ACADEMIC PERFORMANCE\t\n",
    "_SUCCESS LEVEL\t\n",
    "_FIRST YEAR PERSISTENCE COUNT\t\n",
    "_HS AVERAGE GRADE\t\n",
    "_AGE GROUP LONG NAME\t\n",
    "_FIRST GENERATION IND\t\n",
    "_APPL FIRST LANGUAGE DESC\t\n",
    "_APPL EDUC INST TYPE NAME\t\n",
    "_APPLICANT CATEGORY NAME\t\n",
    "_APPLICANT TARGET SEGMENT NAME\t\n",
    "_PREV EDU CRED LEVEL NAME\n",
    "\n",
    "**Composite column**\n",
    "_FUTURE TERM ENROL\n",
    "\n",
    "\n",
    "**Numeric features **\n",
    "_ ID 2\t\n",
    "_RECORD COUNT\n",
    "_PRIMARY PROGRAM CODE\n",
    "_PROGRAM SEMESTERS\t\n",
    "_TOTAL PROGRAM SEMESTERS\t\n",
    "_EXPECTED GRAD TERM CODE\t\n",
    "_HS AVERAGE MARKS\n",
    "_ENGLISH TEST SCORE\t\n",
    "\n",
    "**Ordinal Numerical Features**\n",
    "_ADMIT TERM CODE\n",
    "\n",
    "\n",
    "**Libraries used**\n",
    "- sklearn\n",
    "- scipy\n",
    "- matplotlib\n",
    "- seaborn\n",
    "- Tensorflow\n",
    "- keras\n"
   ]
  },
  {
   "cell_type": "markdown",
   "id": "baf5e8aa",
   "metadata": {},
   "source": [
    "# 2. Data Analysis\n",
    "\n",
    "Importing the necessary libraries"
   ]
  },
  {
   "cell_type": "code",
   "execution_count": 1,
   "id": "358fb20c",
   "metadata": {},
   "outputs": [],
   "source": [
    "import pandas as pd\n",
    "import matplotlib.pyplot as plt\n",
    "import seaborn as sns\n",
    "import matplotlib.patches as mpatches"
   ]
  },
  {
   "cell_type": "code",
   "execution_count": 2,
   "id": "9db4fb82",
   "metadata": {},
   "outputs": [
    {
     "name": "stdout",
     "output_type": "stream",
     "text": [
      "the shape of data = (668, 39)\n"
     ]
    }
   ],
   "source": [
    "dataset = pd.read_excel('./data/HYPE Dataset for Group Project.xlsx', sheet_name='HYPE-Retention')\n",
    "print(f'the shape of data = {dataset.shape}')\n",
    "\n",
    "dataset.drop(dataset[dataset['SUCCESS LEVEL'] == 'In Progress'].index, inplace=True)"
   ]
  },
  {
   "cell_type": "markdown",
   "id": "88e70a3a",
   "metadata": {},
   "source": [
    "Let us get a feel of features and samples."
   ]
  },
  {
   "cell_type": "code",
   "execution_count": 3,
   "id": "57ecb123",
   "metadata": {},
   "outputs": [
    {
     "data": {
      "text/html": [
       "<div>\n",
       "<style scoped>\n",
       "    .dataframe tbody tr th:only-of-type {\n",
       "        vertical-align: middle;\n",
       "    }\n",
       "\n",
       "    .dataframe tbody tr th {\n",
       "        vertical-align: top;\n",
       "    }\n",
       "\n",
       "    .dataframe thead th {\n",
       "        text-align: right;\n",
       "    }\n",
       "</style>\n",
       "<table border=\"1\" class=\"dataframe\">\n",
       "  <thead>\n",
       "    <tr style=\"text-align: right;\">\n",
       "      <th></th>\n",
       "      <th>INTAKE TERM CODE</th>\n",
       "      <th>ADMIT TERM CODE</th>\n",
       "      <th>ID 2</th>\n",
       "      <th>RECORD COUNT</th>\n",
       "      <th>INTAKE COLLEGE EXPERIENCE</th>\n",
       "      <th>PRIMARY PROGRAM CODE</th>\n",
       "      <th>SCHOOL CODE</th>\n",
       "      <th>PROGRAM LONG NAME</th>\n",
       "      <th>PROGRAM SEMESTERS</th>\n",
       "      <th>TOTAL PROGRAM SEMESTERS</th>\n",
       "      <th>...</th>\n",
       "      <th>HS AVERAGE GRADE</th>\n",
       "      <th>HS AVERAGE MARKS</th>\n",
       "      <th>ENGLISH TEST SCORE</th>\n",
       "      <th>AGE GROUP LONG NAME</th>\n",
       "      <th>FIRST GENERATION IND</th>\n",
       "      <th>APPL FIRST LANGUAGE DESC</th>\n",
       "      <th>APPL EDUC INST TYPE NAME</th>\n",
       "      <th>APPLICANT CATEGORY NAME</th>\n",
       "      <th>APPLICANT TARGET SEGMENT NAME</th>\n",
       "      <th>PREV EDU CRED LEVEL NAME</th>\n",
       "    </tr>\n",
       "  </thead>\n",
       "  <tbody>\n",
       "    <tr>\n",
       "      <th>0</th>\n",
       "      <td>200609</td>\n",
       "      <td>200609.0</td>\n",
       "      <td>88</td>\n",
       "      <td>1</td>\n",
       "      <td>New to College</td>\n",
       "      <td>6809</td>\n",
       "      <td>AS</td>\n",
       "      <td>General Arts and Science - One Year</td>\n",
       "      <td>2</td>\n",
       "      <td>2</td>\n",
       "      <td>...</td>\n",
       "      <td>B</td>\n",
       "      <td>74.0</td>\n",
       "      <td>160.0</td>\n",
       "      <td>21 to 25</td>\n",
       "      <td>NaN</td>\n",
       "      <td>English</td>\n",
       "      <td>High School</td>\n",
       "      <td>High School, Domestic</td>\n",
       "      <td>Direct Entry</td>\n",
       "      <td>High School</td>\n",
       "    </tr>\n",
       "    <tr>\n",
       "      <th>1</th>\n",
       "      <td>200609</td>\n",
       "      <td>200609.0</td>\n",
       "      <td>626</td>\n",
       "      <td>1</td>\n",
       "      <td>New to College</td>\n",
       "      <td>9101</td>\n",
       "      <td>CH</td>\n",
       "      <td>Paramedic</td>\n",
       "      <td>4</td>\n",
       "      <td>4</td>\n",
       "      <td>...</td>\n",
       "      <td>A+</td>\n",
       "      <td>97.0</td>\n",
       "      <td>170.0</td>\n",
       "      <td>19 to 20</td>\n",
       "      <td>NaN</td>\n",
       "      <td>English</td>\n",
       "      <td>High School</td>\n",
       "      <td>Mature: Domestic  With Post Secondary</td>\n",
       "      <td>Non-Direct Entry</td>\n",
       "      <td>Post Secondary</td>\n",
       "    </tr>\n",
       "    <tr>\n",
       "      <th>2</th>\n",
       "      <td>200701</td>\n",
       "      <td>200701.0</td>\n",
       "      <td>634</td>\n",
       "      <td>1</td>\n",
       "      <td>Enrolled</td>\n",
       "      <td>2719</td>\n",
       "      <td>BU</td>\n",
       "      <td>Business Administration - Human Resources</td>\n",
       "      <td>6</td>\n",
       "      <td>9</td>\n",
       "      <td>...</td>\n",
       "      <td>NaN</td>\n",
       "      <td>NaN</td>\n",
       "      <td>160.0</td>\n",
       "      <td>19 to 20</td>\n",
       "      <td>NaN</td>\n",
       "      <td>English</td>\n",
       "      <td>NaN</td>\n",
       "      <td>Mature: Domestic 19 or older No Academic History</td>\n",
       "      <td>Non-Direct Entry</td>\n",
       "      <td>Unclassified</td>\n",
       "    </tr>\n",
       "    <tr>\n",
       "      <th>3</th>\n",
       "      <td>200709</td>\n",
       "      <td>200709.0</td>\n",
       "      <td>755</td>\n",
       "      <td>1</td>\n",
       "      <td>New to College</td>\n",
       "      <td>1205</td>\n",
       "      <td>CH</td>\n",
       "      <td>Child and Youth Worker</td>\n",
       "      <td>6</td>\n",
       "      <td>6</td>\n",
       "      <td>...</td>\n",
       "      <td>NaN</td>\n",
       "      <td>NaN</td>\n",
       "      <td>160.0</td>\n",
       "      <td>21 to 25</td>\n",
       "      <td>NaN</td>\n",
       "      <td>English</td>\n",
       "      <td>High School</td>\n",
       "      <td>Mature: Domestic 19 or older No Academic History</td>\n",
       "      <td>Non-Direct Entry</td>\n",
       "      <td>Unclassified</td>\n",
       "    </tr>\n",
       "    <tr>\n",
       "      <th>4</th>\n",
       "      <td>200801</td>\n",
       "      <td>200801.0</td>\n",
       "      <td>616</td>\n",
       "      <td>1</td>\n",
       "      <td>Enrolled</td>\n",
       "      <td>6700</td>\n",
       "      <td>AS</td>\n",
       "      <td>General Arts and Science - One Year</td>\n",
       "      <td>2</td>\n",
       "      <td>2</td>\n",
       "      <td>...</td>\n",
       "      <td>NaN</td>\n",
       "      <td>NaN</td>\n",
       "      <td>160.0</td>\n",
       "      <td>26 to 30</td>\n",
       "      <td>NaN</td>\n",
       "      <td>Unknown</td>\n",
       "      <td>NaN</td>\n",
       "      <td>Mature: Domestic 19 or older No Academic History</td>\n",
       "      <td>Non-Direct Entry</td>\n",
       "      <td>Unclassified</td>\n",
       "    </tr>\n",
       "  </tbody>\n",
       "</table>\n",
       "<p>5 rows × 39 columns</p>\n",
       "</div>"
      ],
      "text/plain": [
       "   INTAKE TERM CODE  ADMIT TERM CODE  ID 2  RECORD COUNT  \\\n",
       "0            200609         200609.0    88             1   \n",
       "1            200609         200609.0   626             1   \n",
       "2            200701         200701.0   634             1   \n",
       "3            200709         200709.0   755             1   \n",
       "4            200801         200801.0   616             1   \n",
       "\n",
       "  INTAKE COLLEGE EXPERIENCE  PRIMARY PROGRAM CODE SCHOOL CODE  \\\n",
       "0            New to College                  6809          AS   \n",
       "1            New to College                  9101          CH   \n",
       "2                  Enrolled                  2719          BU   \n",
       "3            New to College                  1205          CH   \n",
       "4                  Enrolled                  6700          AS   \n",
       "\n",
       "                           PROGRAM LONG NAME  PROGRAM SEMESTERS  \\\n",
       "0        General Arts and Science - One Year                  2   \n",
       "1                                  Paramedic                  4   \n",
       "2  Business Administration - Human Resources                  6   \n",
       "3                     Child and Youth Worker                  6   \n",
       "4        General Arts and Science - One Year                  2   \n",
       "\n",
       "   TOTAL PROGRAM SEMESTERS  ... HS AVERAGE GRADE HS AVERAGE MARKS  \\\n",
       "0                        2  ...                B             74.0   \n",
       "1                        4  ...               A+             97.0   \n",
       "2                        9  ...              NaN              NaN   \n",
       "3                        6  ...              NaN              NaN   \n",
       "4                        2  ...              NaN              NaN   \n",
       "\n",
       "  ENGLISH TEST SCORE AGE GROUP LONG NAME FIRST GENERATION IND  \\\n",
       "0              160.0            21 to 25                  NaN   \n",
       "1              170.0            19 to 20                  NaN   \n",
       "2              160.0            19 to 20                  NaN   \n",
       "3              160.0            21 to 25                  NaN   \n",
       "4              160.0            26 to 30                  NaN   \n",
       "\n",
       "  APPL FIRST LANGUAGE DESC APPL EDUC INST TYPE NAME  \\\n",
       "0                  English              High School   \n",
       "1                  English              High School   \n",
       "2                  English                      NaN   \n",
       "3                  English              High School   \n",
       "4                  Unknown                      NaN   \n",
       "\n",
       "                            APPLICANT CATEGORY NAME  \\\n",
       "0                             High School, Domestic   \n",
       "1             Mature: Domestic  With Post Secondary   \n",
       "2  Mature: Domestic 19 or older No Academic History   \n",
       "3  Mature: Domestic 19 or older No Academic History   \n",
       "4  Mature: Domestic 19 or older No Academic History   \n",
       "\n",
       "  APPLICANT TARGET SEGMENT NAME PREV EDU CRED LEVEL NAME  \n",
       "0                  Direct Entry              High School  \n",
       "1              Non-Direct Entry           Post Secondary  \n",
       "2              Non-Direct Entry             Unclassified  \n",
       "3              Non-Direct Entry             Unclassified  \n",
       "4              Non-Direct Entry             Unclassified  \n",
       "\n",
       "[5 rows x 39 columns]"
      ]
     },
     "execution_count": 3,
     "metadata": {},
     "output_type": "execute_result"
    }
   ],
   "source": [
    "dataset.head()"
   ]
  },
  {
   "cell_type": "code",
   "execution_count": 4,
   "id": "831c3cdb",
   "metadata": {},
   "outputs": [
    {
     "data": {
      "text/plain": [
       "Index(['INTAKE TERM CODE', 'ADMIT TERM CODE', 'ID 2', 'RECORD COUNT',\n",
       "       'INTAKE COLLEGE EXPERIENCE', 'PRIMARY PROGRAM CODE', 'SCHOOL CODE',\n",
       "       'PROGRAM LONG NAME', 'PROGRAM SEMESTERS', 'TOTAL PROGRAM SEMESTERS',\n",
       "       'STUDENT LEVEL NAME', 'STUDENT TYPE NAME', 'STUDENT TYPE GROUP NAME',\n",
       "       'TIME STATUS NAME', 'RESIDENCY STATUS NAME', 'FUNDING SOURCE NAME',\n",
       "       'MAILING CITY NAME', 'MAILING POSTAL CODE GROUP 3',\n",
       "       'MAILING POSTAL CODE', 'MAILING PROVINCE NAME', 'GENDER',\n",
       "       'DISABILITY IND', 'MAILING COUNTRY NAME', 'CURRENT STAY STATUS',\n",
       "       'FUTURE TERM ENROL', 'ACADEMIC PERFORMANCE', 'EXPECTED GRAD TERM CODE',\n",
       "       'SUCCESS LEVEL', 'FIRST YEAR PERSISTENCE COUNT', 'HS AVERAGE GRADE',\n",
       "       'HS AVERAGE MARKS', 'ENGLISH TEST SCORE', 'AGE GROUP LONG NAME',\n",
       "       'FIRST GENERATION IND', 'APPL FIRST LANGUAGE DESC',\n",
       "       'APPL EDUC INST TYPE NAME', 'APPLICANT CATEGORY NAME',\n",
       "       'APPLICANT TARGET SEGMENT NAME', 'PREV EDU CRED LEVEL NAME'],\n",
       "      dtype='object')"
      ]
     },
     "execution_count": 4,
     "metadata": {},
     "output_type": "execute_result"
    }
   ],
   "source": [
    "dataset.columns"
   ]
  },
  {
   "cell_type": "markdown",
   "id": "d1ce47ee",
   "metadata": {},
   "source": [
    "## 2.1 Analyse Missing Values\n",
    "Next, let us compute the percentage of Missing values and the percentage of Unique values for all features in the data."
   ]
  },
  {
   "cell_type": "code",
   "execution_count": 6,
   "id": "1a13421f",
   "metadata": {},
   "outputs": [
    {
     "data": {
      "text/html": [
       "<div>\n",
       "<style scoped>\n",
       "    .dataframe tbody tr th:only-of-type {\n",
       "        vertical-align: middle;\n",
       "    }\n",
       "\n",
       "    .dataframe tbody tr th {\n",
       "        vertical-align: top;\n",
       "    }\n",
       "\n",
       "    .dataframe thead th {\n",
       "        text-align: right;\n",
       "    }\n",
       "</style>\n",
       "<table border=\"1\" class=\"dataframe\">\n",
       "  <thead>\n",
       "    <tr style=\"text-align: right;\">\n",
       "      <th></th>\n",
       "      <th>Feature</th>\n",
       "      <th>% of unique values</th>\n",
       "      <th>% of Missing values</th>\n",
       "    </tr>\n",
       "  </thead>\n",
       "  <tbody>\n",
       "    <tr>\n",
       "      <th>30</th>\n",
       "      <td>HS AVERAGE MARKS</td>\n",
       "      <td>11.006</td>\n",
       "      <td>68.121</td>\n",
       "    </tr>\n",
       "    <tr>\n",
       "      <th>29</th>\n",
       "      <td>HS AVERAGE GRADE</td>\n",
       "      <td>1.708</td>\n",
       "      <td>68.121</td>\n",
       "    </tr>\n",
       "    <tr>\n",
       "      <th>33</th>\n",
       "      <td>FIRST GENERATION IND</td>\n",
       "      <td>0.380</td>\n",
       "      <td>62.239</td>\n",
       "    </tr>\n",
       "    <tr>\n",
       "      <th>35</th>\n",
       "      <td>APPL EDUC INST TYPE NAME</td>\n",
       "      <td>0.190</td>\n",
       "      <td>57.306</td>\n",
       "    </tr>\n",
       "    <tr>\n",
       "      <th>31</th>\n",
       "      <td>ENGLISH TEST SCORE</td>\n",
       "      <td>1.518</td>\n",
       "      <td>3.036</td>\n",
       "    </tr>\n",
       "    <tr>\n",
       "      <th>38</th>\n",
       "      <td>PREV EDU CRED LEVEL NAME</td>\n",
       "      <td>0.569</td>\n",
       "      <td>0.569</td>\n",
       "    </tr>\n",
       "    <tr>\n",
       "      <th>36</th>\n",
       "      <td>APPLICANT CATEGORY NAME</td>\n",
       "      <td>0.949</td>\n",
       "      <td>0.569</td>\n",
       "    </tr>\n",
       "    <tr>\n",
       "      <th>34</th>\n",
       "      <td>APPL FIRST LANGUAGE DESC</td>\n",
       "      <td>0.569</td>\n",
       "      <td>0.569</td>\n",
       "    </tr>\n",
       "    <tr>\n",
       "      <th>32</th>\n",
       "      <td>AGE GROUP LONG NAME</td>\n",
       "      <td>1.328</td>\n",
       "      <td>0.569</td>\n",
       "    </tr>\n",
       "    <tr>\n",
       "      <th>22</th>\n",
       "      <td>MAILING COUNTRY NAME</td>\n",
       "      <td>0.190</td>\n",
       "      <td>0.380</td>\n",
       "    </tr>\n",
       "    <tr>\n",
       "      <th>16</th>\n",
       "      <td>MAILING CITY NAME</td>\n",
       "      <td>5.503</td>\n",
       "      <td>0.190</td>\n",
       "    </tr>\n",
       "    <tr>\n",
       "      <th>1</th>\n",
       "      <td>ADMIT TERM CODE</td>\n",
       "      <td>6.831</td>\n",
       "      <td>0.190</td>\n",
       "    </tr>\n",
       "    <tr>\n",
       "      <th>18</th>\n",
       "      <td>MAILING POSTAL CODE</td>\n",
       "      <td>63.567</td>\n",
       "      <td>0.190</td>\n",
       "    </tr>\n",
       "    <tr>\n",
       "      <th>17</th>\n",
       "      <td>MAILING POSTAL CODE GROUP 3</td>\n",
       "      <td>14.991</td>\n",
       "      <td>0.190</td>\n",
       "    </tr>\n",
       "    <tr>\n",
       "      <th>19</th>\n",
       "      <td>MAILING PROVINCE NAME</td>\n",
       "      <td>0.569</td>\n",
       "      <td>0.190</td>\n",
       "    </tr>\n",
       "    <tr>\n",
       "      <th>15</th>\n",
       "      <td>FUNDING SOURCE NAME</td>\n",
       "      <td>0.949</td>\n",
       "      <td>0.000</td>\n",
       "    </tr>\n",
       "    <tr>\n",
       "      <th>14</th>\n",
       "      <td>RESIDENCY STATUS NAME</td>\n",
       "      <td>0.380</td>\n",
       "      <td>0.000</td>\n",
       "    </tr>\n",
       "    <tr>\n",
       "      <th>37</th>\n",
       "      <td>APPLICANT TARGET SEGMENT NAME</td>\n",
       "      <td>0.759</td>\n",
       "      <td>0.000</td>\n",
       "    </tr>\n",
       "    <tr>\n",
       "      <th>2</th>\n",
       "      <td>ID 2</td>\n",
       "      <td>71.157</td>\n",
       "      <td>0.000</td>\n",
       "    </tr>\n",
       "    <tr>\n",
       "      <th>3</th>\n",
       "      <td>RECORD COUNT</td>\n",
       "      <td>0.190</td>\n",
       "      <td>0.000</td>\n",
       "    </tr>\n",
       "    <tr>\n",
       "      <th>4</th>\n",
       "      <td>INTAKE COLLEGE EXPERIENCE</td>\n",
       "      <td>1.139</td>\n",
       "      <td>0.000</td>\n",
       "    </tr>\n",
       "    <tr>\n",
       "      <th>5</th>\n",
       "      <td>PRIMARY PROGRAM CODE</td>\n",
       "      <td>21.252</td>\n",
       "      <td>0.000</td>\n",
       "    </tr>\n",
       "    <tr>\n",
       "      <th>6</th>\n",
       "      <td>SCHOOL CODE</td>\n",
       "      <td>1.328</td>\n",
       "      <td>0.000</td>\n",
       "    </tr>\n",
       "    <tr>\n",
       "      <th>7</th>\n",
       "      <td>PROGRAM LONG NAME</td>\n",
       "      <td>20.493</td>\n",
       "      <td>0.000</td>\n",
       "    </tr>\n",
       "    <tr>\n",
       "      <th>8</th>\n",
       "      <td>PROGRAM SEMESTERS</td>\n",
       "      <td>0.949</td>\n",
       "      <td>0.000</td>\n",
       "    </tr>\n",
       "    <tr>\n",
       "      <th>9</th>\n",
       "      <td>TOTAL PROGRAM SEMESTERS</td>\n",
       "      <td>1.328</td>\n",
       "      <td>0.000</td>\n",
       "    </tr>\n",
       "    <tr>\n",
       "      <th>28</th>\n",
       "      <td>FIRST YEAR PERSISTENCE COUNT</td>\n",
       "      <td>0.380</td>\n",
       "      <td>0.000</td>\n",
       "    </tr>\n",
       "    <tr>\n",
       "      <th>27</th>\n",
       "      <td>SUCCESS LEVEL</td>\n",
       "      <td>0.380</td>\n",
       "      <td>0.000</td>\n",
       "    </tr>\n",
       "    <tr>\n",
       "      <th>26</th>\n",
       "      <td>EXPECTED GRAD TERM CODE</td>\n",
       "      <td>7.400</td>\n",
       "      <td>0.000</td>\n",
       "    </tr>\n",
       "    <tr>\n",
       "      <th>25</th>\n",
       "      <td>ACADEMIC PERFORMANCE</td>\n",
       "      <td>0.759</td>\n",
       "      <td>0.000</td>\n",
       "    </tr>\n",
       "    <tr>\n",
       "      <th>24</th>\n",
       "      <td>FUTURE TERM ENROL</td>\n",
       "      <td>20.493</td>\n",
       "      <td>0.000</td>\n",
       "    </tr>\n",
       "    <tr>\n",
       "      <th>23</th>\n",
       "      <td>CURRENT STAY STATUS</td>\n",
       "      <td>1.898</td>\n",
       "      <td>0.000</td>\n",
       "    </tr>\n",
       "    <tr>\n",
       "      <th>10</th>\n",
       "      <td>STUDENT LEVEL NAME</td>\n",
       "      <td>0.380</td>\n",
       "      <td>0.000</td>\n",
       "    </tr>\n",
       "    <tr>\n",
       "      <th>21</th>\n",
       "      <td>DISABILITY IND</td>\n",
       "      <td>0.380</td>\n",
       "      <td>0.000</td>\n",
       "    </tr>\n",
       "    <tr>\n",
       "      <th>20</th>\n",
       "      <td>GENDER</td>\n",
       "      <td>0.569</td>\n",
       "      <td>0.000</td>\n",
       "    </tr>\n",
       "    <tr>\n",
       "      <th>11</th>\n",
       "      <td>STUDENT TYPE NAME</td>\n",
       "      <td>0.190</td>\n",
       "      <td>0.000</td>\n",
       "    </tr>\n",
       "    <tr>\n",
       "      <th>12</th>\n",
       "      <td>STUDENT TYPE GROUP NAME</td>\n",
       "      <td>0.190</td>\n",
       "      <td>0.000</td>\n",
       "    </tr>\n",
       "    <tr>\n",
       "      <th>13</th>\n",
       "      <td>TIME STATUS NAME</td>\n",
       "      <td>0.380</td>\n",
       "      <td>0.000</td>\n",
       "    </tr>\n",
       "    <tr>\n",
       "      <th>0</th>\n",
       "      <td>INTAKE TERM CODE</td>\n",
       "      <td>7.021</td>\n",
       "      <td>0.000</td>\n",
       "    </tr>\n",
       "  </tbody>\n",
       "</table>\n",
       "</div>"
      ],
      "text/plain": [
       "                          Feature  % of unique values  % of Missing values\n",
       "30               HS AVERAGE MARKS              11.006               68.121\n",
       "29               HS AVERAGE GRADE               1.708               68.121\n",
       "33           FIRST GENERATION IND               0.380               62.239\n",
       "35       APPL EDUC INST TYPE NAME               0.190               57.306\n",
       "31             ENGLISH TEST SCORE               1.518                3.036\n",
       "38       PREV EDU CRED LEVEL NAME               0.569                0.569\n",
       "36        APPLICANT CATEGORY NAME               0.949                0.569\n",
       "34       APPL FIRST LANGUAGE DESC               0.569                0.569\n",
       "32            AGE GROUP LONG NAME               1.328                0.569\n",
       "22           MAILING COUNTRY NAME               0.190                0.380\n",
       "16              MAILING CITY NAME               5.503                0.190\n",
       "1                 ADMIT TERM CODE               6.831                0.190\n",
       "18            MAILING POSTAL CODE              63.567                0.190\n",
       "17    MAILING POSTAL CODE GROUP 3              14.991                0.190\n",
       "19          MAILING PROVINCE NAME               0.569                0.190\n",
       "15            FUNDING SOURCE NAME               0.949                0.000\n",
       "14          RESIDENCY STATUS NAME               0.380                0.000\n",
       "37  APPLICANT TARGET SEGMENT NAME               0.759                0.000\n",
       "2                            ID 2              71.157                0.000\n",
       "3                    RECORD COUNT               0.190                0.000\n",
       "4       INTAKE COLLEGE EXPERIENCE               1.139                0.000\n",
       "5            PRIMARY PROGRAM CODE              21.252                0.000\n",
       "6                     SCHOOL CODE               1.328                0.000\n",
       "7               PROGRAM LONG NAME              20.493                0.000\n",
       "8               PROGRAM SEMESTERS               0.949                0.000\n",
       "9         TOTAL PROGRAM SEMESTERS               1.328                0.000\n",
       "28   FIRST YEAR PERSISTENCE COUNT               0.380                0.000\n",
       "27                  SUCCESS LEVEL               0.380                0.000\n",
       "26        EXPECTED GRAD TERM CODE               7.400                0.000\n",
       "25           ACADEMIC PERFORMANCE               0.759                0.000\n",
       "24              FUTURE TERM ENROL              20.493                0.000\n",
       "23            CURRENT STAY STATUS               1.898                0.000\n",
       "10             STUDENT LEVEL NAME               0.380                0.000\n",
       "21                 DISABILITY IND               0.380                0.000\n",
       "20                         GENDER               0.569                0.000\n",
       "11              STUDENT TYPE NAME               0.190                0.000\n",
       "12        STUDENT TYPE GROUP NAME               0.190                0.000\n",
       "13               TIME STATUS NAME               0.380                0.000\n",
       "0                INTAKE TERM CODE               7.021                0.000"
      ]
     },
     "execution_count": 6,
     "metadata": {},
     "output_type": "execute_result"
    }
   ],
   "source": [
    "allcolumns = dataset.columns\n",
    "\n",
    "unique_counts = []\n",
    "unique_percentage_counts = []\n",
    "missing_counts = []\n",
    "\n",
    "for col in allcolumns:\n",
    "    unique_counts.append(dataset[col].nunique())\n",
    "    unique_percentage_counts.append(round((dataset[col].nunique() * 100)/dataset.shape[0],3))\n",
    "    missing_counts.append(round((dataset[col].isna().sum() * 100)/dataset.shape[0],3))\n",
    "    \n",
    "\n",
    "data = {'Feature': allcolumns, '% of unique values': unique_percentage_counts, \n",
    "        '% of Missing values': missing_counts}\n",
    "df_counts  = pd.DataFrame.from_dict(data)\n",
    "\n",
    "df_counts.sort_values(by='% of Missing values', ascending=False)\n",
    "# df_counts.sort_values(by='% of unique values', ascending=False)"
   ]
  },
  {
   "cell_type": "markdown",
   "id": "8b347121",
   "metadata": {},
   "source": [
    "From the above output, following features will be dropped:\n",
    "1.  Drop 'INTAKE TERM CODE', 'RECORD COUNT', 'PRIMARY PROGRAM CODE', 'STUDENT TYPE NAME', 'STUDENT TYPE GROUP NAME', 'MAILING CITY NAME', 'MAILING POSTAL CODE GROUP 3', 'MAILING POSTAL CODE', 'MAILING PROVINCE NAME', 'EXPECTED GRAD TERM CODE', 'FIRST GENERATION IND', 'APPL EDUC INST TYPE NAME', 'PROGRAM LONG NAME' because they contain too many unique values or contain too many null values or they  donot influence our predictor variable-SUCCESS LEVEL.\n",
    "2. Drop APPL FIRST LANGUAGE DESC because 57% of values are UNKNOWN or Blank. Rest is English. \n",
    "3. Impute MAILING COUNTRY NAME:  We found that the rows that contain MAILING COUNTRY NAME as NA belong to CANADA. We found this using CITY NAME column.\n",
    "4. Impute ENGLISH TEST SCORE: As this is a numeric field. We will impute using mean value.\n",
    "5. Impute PREV EDU CRED LEVEL NAME: As this is a categorical field, we will impute this with mode.\n",
    "6. Impute APPLICANT CATEGORY NAME: As this is a categorical field, we will impute this with mode.\n",
    "7. Impute AGE GROUP LONG NAME:  As this is a categorical field, we will impute this with mode."
   ]
  },
  {
   "cell_type": "code",
   "execution_count": 7,
   "id": "e24133da",
   "metadata": {},
   "outputs": [],
   "source": [
    "dataset.drop(columns=['HS AVERAGE MARKS', 'HS AVERAGE GRADE', 'APPL FIRST LANGUAGE DESC', ], inplace=True)\n",
    "dataset['MAILING COUNTRY NAME'].fillna('Canada', inplace=True)\n",
    "dataset['ENGLISH TEST SCORE'].fillna(dataset['ENGLISH TEST SCORE'].mean(), inplace=True)\n",
    "dataset['PREV EDU CRED LEVEL NAME'].fillna(dataset['PREV EDU CRED LEVEL NAME'].mode()[0], inplace=True)\n",
    "dataset['APPLICANT CATEGORY NAME'].fillna(dataset['PREV EDU CRED LEVEL NAME'].mode()[0], inplace=True)\n",
    "dataset['AGE GROUP LONG NAME'].fillna(dataset['AGE GROUP LONG NAME'].mode()[0], inplace=True)"
   ]
  },
  {
   "cell_type": "markdown",
   "id": "fb301225",
   "metadata": {},
   "source": [
    "## 2.2 Feature Engineering\n",
    "Next, convert the year and month in ADMIT TERM COD into Admit_ODD_orEVEN column. This column means if the student enrolled during an Odd or Even Term. We will also create a ADMIT YEAR column. This will help us to group the students based on ID and keep only the latest enrollment. "
   ]
  },
  {
   "cell_type": "code",
   "execution_count": 8,
   "id": "30252f09",
   "metadata": {},
   "outputs": [],
   "source": [
    "dataset.drop(dataset[dataset['ADMIT TERM CODE'].isna() == True].index, inplace=True)\n",
    "dataset['ADMIT TERM CODE'] = dataset['ADMIT TERM CODE'].astype(int)"
   ]
  },
  {
   "cell_type": "code",
   "execution_count": 9,
   "id": "6a6ed74e",
   "metadata": {},
   "outputs": [],
   "source": [
    "dataset['ADMIT TERM CODE'].fillna(dataset['ADMIT TERM CODE'].mode(), inplace=True)\n",
    "dataset['ADMIT YEAR'] = dataset['ADMIT TERM CODE'].astype(str).str[:4]\n",
    "\n",
    "dataset['ADMIT MONTH']  = dataset['ADMIT TERM CODE'].astype(str).str[4:]\n",
    "dataset['ADMIT MONTH'] =  dataset['ADMIT MONTH'].astype(int)"
   ]
  },
  {
   "cell_type": "code",
   "execution_count": 10,
   "id": "7335d3e2",
   "metadata": {},
   "outputs": [],
   "source": [
    "dataset = dataset.groupby([\"ID 2\"]).apply(lambda x: x.sort_values([\"ADMIT YEAR\"], ascending = False)).drop_duplicates('ID 2', keep='first').reset_index(drop=True)"
   ]
  },
  {
   "cell_type": "markdown",
   "id": "5c8f5a16",
   "metadata": {},
   "source": [
    " Now we can drop ID, ADMIT MONTH and ADMIT TERM CODE columns"
   ]
  },
  {
   "cell_type": "code",
   "execution_count": 11,
   "id": "dd8409f0",
   "metadata": {},
   "outputs": [
    {
     "data": {
      "text/plain": [
       "(374, 21)"
      ]
     },
     "execution_count": 11,
     "metadata": {},
     "output_type": "execute_result"
    }
   ],
   "source": [
    "dataset.drop(columns = ['ADMIT TERM CODE', 'ADMIT YEAR', 'ADMIT MONTH', 'ID 2'], inplace=True)\n",
    "dataset.shape"
   ]
  },
  {
   "cell_type": "markdown",
   "id": "9c5599bc",
   "metadata": {},
   "source": [
    "Now, we will convert the composite column _FUTURE TERM ENROL into 8 different columns after splitting based on - character"
   ]
  },
  {
   "cell_type": "code",
   "execution_count": 12,
   "id": "e93cfc66",
   "metadata": {},
   "outputs": [],
   "source": [
    "dataset[['Term1', 'Term2', 'Term3', 'Term4', 'Term6', 'Term5', 'Term7', 'Term8', 'Term9', 'Term10']] = dataset['FUTURE TERM ENROL'].str.split('-',  expand=True)\n",
    "dataset['Term1'] = dataset['Term1'].astype(int)\n",
    "dataset['Term2'] = dataset['Term2'].astype(int)\n",
    "dataset['Term3'] = dataset['Term3'].astype(int)\n",
    "dataset['Term4'] = dataset['Term4'].astype(int)\n",
    "dataset['Term6'] = dataset['Term5'].astype(int)\n",
    "dataset['Term5'] = dataset['Term6'].astype(int)\n",
    "dataset['Term7'] = dataset['Term7'].astype(int)\n",
    "dataset['Term8'] = dataset['Term8'].astype(int)\n",
    "dataset['Term9'] = dataset['Term9'].astype(int)\n",
    "dataset['Term10'] = dataset['Term10'].astype(int)\n",
    "\n",
    "dataset.drop(columns=['FUTURE TERM ENROL'], inplace=True)"
   ]
  },
  {
   "cell_type": "markdown",
   "id": "7c37f6d3",
   "metadata": {},
   "source": [
    "We found that CURRENT STAY STATUS has 10 categories - Left College - Enrolled 1 Term, Graduated - On Time, Left College - Enrolled 2 Terms, Graduated - Extended Time, Left College - Enrolled 3 Terms, Graduated - Different Program, Left College - Enrolled 5 or more Terms, Left College - Enrolled 4 Terms, Completed - Preparatory Program, Graduated - Different Intake. \n",
    "\n",
    "We can reduce these categories to  - Left College, Graduated, Completed"
   ]
  },
  {
   "cell_type": "code",
   "execution_count": 13,
   "id": "34324660",
   "metadata": {},
   "outputs": [],
   "source": [
    "def change_STAY_STATUS(row):\n",
    "    if 'Left College' in row:\n",
    "        return 'Left College'\n",
    "    if 'Completed' in row:\n",
    "        return 'Completed'\n",
    "    if 'Graduated' in row:\n",
    "        return 'Graduated'\n",
    "\n",
    "dataset['CURRENT STAY STATUS'] = dataset['CURRENT STAY STATUS'].apply(change_STAY_STATUS)"
   ]
  },
  {
   "cell_type": "code",
   "execution_count": 14,
   "id": "78e3c762",
   "metadata": {},
   "outputs": [
    {
     "name": "stdout",
     "output_type": "stream",
     "text": [
      "<class 'pandas.core.frame.DataFrame'>\n",
      "RangeIndex: 374 entries, 0 to 373\n",
      "Data columns (total 30 columns):\n",
      " #   Column                         Non-Null Count  Dtype  \n",
      "---  ------                         --------------  -----  \n",
      " 0   INTAKE COLLEGE EXPERIENCE      374 non-null    object \n",
      " 1   SCHOOL CODE                    374 non-null    object \n",
      " 2   PROGRAM SEMESTERS              374 non-null    int64  \n",
      " 3   TOTAL PROGRAM SEMESTERS        374 non-null    int64  \n",
      " 4   STUDENT LEVEL NAME             374 non-null    object \n",
      " 5   TIME STATUS NAME               374 non-null    object \n",
      " 6   RESIDENCY STATUS NAME          374 non-null    object \n",
      " 7   FUNDING SOURCE NAME            374 non-null    object \n",
      " 8   GENDER                         374 non-null    object \n",
      " 9   DISABILITY IND                 374 non-null    object \n",
      " 10  MAILING COUNTRY NAME           374 non-null    object \n",
      " 11  CURRENT STAY STATUS            374 non-null    object \n",
      " 12  ACADEMIC PERFORMANCE           374 non-null    object \n",
      " 13  SUCCESS LEVEL                  374 non-null    object \n",
      " 14  FIRST YEAR PERSISTENCE COUNT   374 non-null    int64  \n",
      " 15  ENGLISH TEST SCORE             374 non-null    float64\n",
      " 16  AGE GROUP LONG NAME            374 non-null    object \n",
      " 17  APPLICANT CATEGORY NAME        374 non-null    object \n",
      " 18  APPLICANT TARGET SEGMENT NAME  374 non-null    object \n",
      " 19  PREV EDU CRED LEVEL NAME       374 non-null    object \n",
      " 20  Term1                          374 non-null    int32  \n",
      " 21  Term2                          374 non-null    int32  \n",
      " 22  Term3                          374 non-null    int32  \n",
      " 23  Term4                          374 non-null    int32  \n",
      " 24  Term6                          374 non-null    int32  \n",
      " 25  Term5                          374 non-null    int32  \n",
      " 26  Term7                          374 non-null    int32  \n",
      " 27  Term8                          374 non-null    int32  \n",
      " 28  Term9                          374 non-null    int32  \n",
      " 29  Term10                         374 non-null    int32  \n",
      "dtypes: float64(1), int32(10), int64(3), object(16)\n",
      "memory usage: 73.2+ KB\n"
     ]
    }
   ],
   "source": [
    "dataset.info()"
   ]
  },
  {
   "cell_type": "markdown",
   "id": "c91e279c",
   "metadata": {},
   "source": [
    "We have analysed all the columns. We can use these logic to build the pipeline. The pipeline code is in 2.pipeline.ipynb.\n",
    "\n",
    "# 3. Find Answers to business questions\n",
    "\n",
    "## 3.1 what is the success rate among girls and boys?\n"
   ]
  },
  {
   "cell_type": "code",
   "execution_count": 8,
   "id": "d2f88531",
   "metadata": {},
   "outputs": [
    {
     "data": {
      "image/png": "[encoded data removed]",
      "text/plain": [
       "<Figure size 720x432 with 1 Axes>"
      ]
     },
     "metadata": {},
     "output_type": "display_data"
    }
   ],
   "source": [
    "\n",
    "# sns.set(color_codes=True)\n",
    "sns.set_style(\"darkgrid\")\n",
    "\n",
    "grouped = dataset.groupby(['GENDER'], sort=False)\n",
    "success_counts = grouped['SUCCESS LEVEL'].value_counts(normalize=True, sort=False)\n",
    "\n",
    "data = [\n",
    "    {'success_level': success_level, 'gender': gender, 'percentage': percentage*100} for \n",
    "    (gender, success_level), percentage in dict(success_counts).items()\n",
    "]\n",
    "\n",
    "df1 = pd.DataFrame(data)\n",
    "sns.set(rc = {'figure.figsize':(10,6)})\n",
    "p = sns.barplot(x=\"success_level\", y=\"percentage\", hue=\"gender\", data=df1, palette='rocket')"
   ]
  },
  {
   "cell_type": "markdown",
   "id": "c7a9d2d0",
   "metadata": {},
   "source": [
    "## 3.2 which agegroup has the highest Success and Unsuccess rate?\n"
   ]
  },
  {
   "cell_type": "code",
   "execution_count": 106,
   "id": "13bd86a3",
   "metadata": {},
   "outputs": [
    {
     "data": {
      "image/png": "[encoded data removed]",
      "text/plain": [
       "<Figure size 720x432 with 1 Axes>"
      ]
     },
     "metadata": {},
     "output_type": "display_data"
    }
   ],
   "source": [
    "sns.set(rc = {'figure.figsize':(10,6)})\n",
    "sns.countplot(x=\"AGE GROUP LONG NAME\", data=dataset, color='#33FFB0',\n",
    "              order = ['0 to 18', '19 to 20', '21 to 25', '26 to 30', '31 to 35', '36 to 40', '41 to 50']);"
   ]
  },
  {
   "cell_type": "code",
   "execution_count": 48,
   "id": "65083c96",
   "metadata": {},
   "outputs": [
    {
     "data": {
      "image/png": "[encoded data removed]",
      "text/plain": [
       "<Figure size 720x432 with 1 Axes>"
      ]
     },
     "metadata": {},
     "output_type": "display_data"
    }
   ],
   "source": [
    "total = dataset.groupby('AGE GROUP LONG NAME')['GENDER'].count().reset_index()\n",
    "successful = dataset[dataset['SUCCESS LEVEL']=='Successful'].groupby('AGE GROUP LONG NAME')['GENDER'].count().reset_index()\n",
    "\n",
    "successful['total'] = [i / j * 100 for i,j in zip(successful['GENDER'], total['GENDER'])]\n",
    "total['total'] = [i / j * 100 for i,j in zip(total['GENDER'], total['GENDER'])]\n",
    "\n",
    "# bar chart 1 -> top bars (group of 'smoker=No')\n",
    "bar1 = sns.barplot(x=\"AGE GROUP LONG NAME\",  y=\"GENDER\", data=total, color='darkblue');\n",
    "\n",
    "# bar chart 2 -> bottom bars (group of 'smoker=Yes')\n",
    "bar2 = sns.barplot(x=\"AGE GROUP LONG NAME\", y=\"GENDER\", data=successful, color='lightblue');\n",
    "\n",
    "# add legend\n",
    "top_bar = mpatches.Patch(color='darkblue', label='successful = No');\n",
    "bottom_bar = mpatches.Patch(color='lightblue', label='successful = Yes');\n",
    "plt.legend(handles=[top_bar, bottom_bar]);\n"
   ]
  },
  {
   "cell_type": "markdown",
   "id": "e82582ac",
   "metadata": {},
   "source": [
    "## 3.3. Academic performance vs. Success rate"
   ]
  },
  {
   "cell_type": "code",
   "execution_count": 9,
   "id": "b1204282",
   "metadata": {},
   "outputs": [
    {
     "data": {
      "image/png": "[encoded data removed]",
      "text/plain": [
       "<Figure size 720x432 with 1 Axes>"
      ]
     },
     "metadata": {},
     "output_type": "display_data"
    }
   ],
   "source": [
    "df_success = dataset[dataset['SUCCESS LEVEL'] == 'Unsuccessful']\n",
    "df_unsuccess = dataset[dataset['SUCCESS LEVEL'] == 'Successful']\n",
    "\n",
    "\n",
    "result_df = pd.DataFrame({\"success\":   df_success.groupby('ACADEMIC PERFORMANCE')['GENDER'].count().reset_index()['GENDER'],\n",
    "                    \"unsucess\" : df_unsuccess.groupby('ACADEMIC PERFORMANCE')['GENDER'].count().reset_index()['GENDER'],\n",
    "                    \"Academic\": dict(dataset['ACADEMIC PERFORMANCE'].value_counts()).keys()})\n",
    "\n",
    "\n",
    "s1 = sns.barplot(x = 'Academic', y = 'unsucess', data = result_df, color='gray', \n",
    "                 order = ['AB - Good', 'C - Satisfactory', 'DF - Poor', 'ZZ - Unknown'])\n",
    "\n",
    "s2 = sns.barplot(x = 'Academic', y = 'success', data = result_df, color='#34ebcc',\n",
    "                order=['AB - Good', 'C - Satisfactory', 'DF - Poor', 'ZZ - Unknown'])\n",
    "\n",
    "s2.set_xticklabels(s2.get_xticklabels(), rotation=30)\n",
    "s2.set_xlabel('')\n",
    "s2.set_ylabel('success rate')\n",
    "\n",
    "# add legend\n",
    "top_bar = mpatches.Patch(color='gray', label='successful = No');\n",
    "bottom_bar = mpatches.Patch(color='#34ebcc', label='successful = Yes');\n",
    "plt.legend(handles=[top_bar, bottom_bar]);\n"
   ]
  },
  {
   "cell_type": "markdown",
   "id": "77719fd0",
   "metadata": {},
   "source": [
    "## 3.4 If Student did not  persist during First Year Persistance, is the student more unsucessful than successful?"
   ]
  },
  {
   "cell_type": "code",
   "execution_count": 108,
   "id": "4e5686f5",
   "metadata": {},
   "outputs": [
    {
     "data": {
      "image/png": "[encoded data removed]",
      "text/plain": [
       "<Figure size 720x432 with 1 Axes>"
      ]
     },
     "metadata": {},
     "output_type": "display_data"
    }
   ],
   "source": [
    "df_unsuccessful = dataset[dataset['FIRST YEAR PERSISTENCE COUNT'] ==0]\n",
    "sns.countplot(x ='SUCCESS LEVEL' , data=df_unsuccessful, color='green');"
   ]
  },
  {
   "cell_type": "markdown",
   "id": "84e89739",
   "metadata": {},
   "source": [
    "## 3.5 Are students belonging to a particular Applicant Category Name more Successful? Which Category is least successful?"
   ]
  },
  {
   "cell_type": "code",
   "execution_count": 10,
   "id": "6a5e139b",
   "metadata": {},
   "outputs": [
    {
     "data": {
      "image/png": "[encoded data removed]",
      "text/plain": [
       "<Figure size 720x432 with 1 Axes>"
      ]
     },
     "metadata": {},
     "output_type": "display_data"
    }
   ],
   "source": [
    "\n",
    "result_df = pd.DataFrame({\"success\":   df_success.groupby('APPLICANT CATEGORY NAME')['GENDER'].count().reset_index()['GENDER'],\n",
    "                    \"unsucess\" : df_unsuccess.groupby('APPLICANT CATEGORY NAME')['GENDER'].count().reset_index()['GENDER'],\n",
    "                    \"Category Name\": dict(dataset['APPLICANT CATEGORY NAME'].value_counts()).keys()})\n",
    "\n",
    "\n",
    "s1 = sns.barplot(x = 'Category Name', y = 'unsucess', data = result_df, color='cyan')\n",
    "\n",
    "s2 = sns.barplot(x = 'Category Name', y = 'success', data = result_df, color='#FFCF33')\n",
    "\n",
    "s2.set_xticklabels(s2.get_xticklabels(), rotation=90)\n",
    "s2.set_xlabel('')\n",
    "s2.set_ylabel('success rate')\n",
    "\n",
    "# add legend\n",
    "top_bar = mpatches.Patch(color='cyan', label='success = No');\n",
    "bottom_bar = mpatches.Patch(color='#FFCF33', label='success = Yes');\n",
    "plt.legend(handles=[top_bar, bottom_bar]);"
   ]
  },
  {
   "cell_type": "markdown",
   "id": "95366cec",
   "metadata": {},
   "source": [
    "## 3.6 Does the Success Rate differ by Applicant Target Segment Name?"
   ]
  },
  {
   "cell_type": "code",
   "execution_count": 11,
   "id": "481b64b7",
   "metadata": {},
   "outputs": [
    {
     "data": {
      "image/png": "[encoded data removed]",
      "text/plain": [
       "<Figure size 720x432 with 1 Axes>"
      ]
     },
     "metadata": {},
     "output_type": "display_data"
    }
   ],
   "source": [
    "dataset['APPLICANT TARGET SEGMENT NAME'].value_counts()\n",
    "\n",
    "df = pd.DataFrame({\"success\":   df_success.groupby('APPLICANT TARGET SEGMENT NAME')['GENDER'].count().reset_index()['GENDER'],\n",
    "                    \"unsucess\" : df_unsuccess.groupby('APPLICANT TARGET SEGMENT NAME')['GENDER'].count().reset_index()['GENDER'],\n",
    "                    \"Segment Name\": dict(dataset['APPLICANT TARGET SEGMENT NAME'].value_counts()).keys()})\n",
    "\n",
    "s1 = sns.barplot(x = 'Segment Name', y = 'unsucess', data = df, color = 'gray')\n",
    "\n",
    "s2 = sns.barplot(x = 'Segment Name', y = 'success', data = df, color = 'green')\n",
    "\n",
    "# add legend\n",
    "top_bar = mpatches.Patch(color='gray', label='successful = No');\n",
    "bottom_bar = mpatches.Patch(color='green', label='successful = Yes');\n",
    "plt.legend(handles=[top_bar, bottom_bar]);"
   ]
  },
  {
   "cell_type": "code",
   "execution_count": null,
   "id": "1e18d696",
   "metadata": {},
   "outputs": [],
   "source": []
  }
 ],
 "metadata": {
  "kernelspec": {
   "display_name": "Python 3 (ipykernel)",
   "language": "python",
   "name": "python3"
  },
  "language_info": {
   "codemirror_mode": {
    "name": "ipython",
    "version": 3
   },
   "file_extension": ".py",
   "mimetype": "text/x-python",
   "name": "python",
   "nbconvert_exporter": "python",
   "pygments_lexer": "ipython3",
   "version": "3.7.11"
  }
 },
 "nbformat": 4,
 "nbformat_minor": 5
}
